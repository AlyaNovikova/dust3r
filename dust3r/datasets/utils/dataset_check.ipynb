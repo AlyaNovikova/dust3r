{
 "cells": [
  {
   "cell_type": "code",
   "id": "initial_id",
   "metadata": {
    "collapsed": true,
    "ExecuteTime": {
     "end_time": "2025-01-01T21:47:00.681303Z",
     "start_time": "2025-01-01T21:46:56.758113Z"
    }
   },
   "source": [
    "import os.path as osp\n",
    "import cv2\n",
    "import numpy as np\n",
    "\n",
    "import sys\n",
    "sys.path.append('../../../') \n",
    "\n",
    "from dust3r.datasets.base.base_stereo_view_dataset import BaseStereoViewDataset\n",
    "from dust3r.utils.image import imread_cv2\n",
    "from dust3r.datasets import UnderWaterDataset\n",
    "\n",
    "from dust3r.datasets.base.base_stereo_view_dataset import view_name\n",
    "from dust3r.viz import SceneViz, auto_cam_size\n",
    "from dust3r.utils.image import rgb"
   ],
   "outputs": [
    {
     "name": "stdout",
     "output_type": "stream",
     "text": [
      "Jupyter environment detected. Enabling Open3D WebVisualizer.\n",
      "[Open3D INFO] WebRTC GUI backend enabled.\n",
      "[Open3D INFO] WebRTCWindowSystem: HTTP handshake server disabled.\n"
     ]
    }
   ],
   "execution_count": 2
  },
  {
   "metadata": {
    "ExecuteTime": {
     "end_time": "2025-01-01T21:50:01.169867Z",
     "start_time": "2025-01-01T21:49:55.365Z"
    }
   },
   "cell_type": "code",
   "source": [
    "dataset = UnderWaterDataset(split='train', ROOT='/home/aleksandra/dense_glomap_output', resolution=224)\n",
    "\n",
    "print(len(dataset.split_data))\n",
    "selected_pairs = dataset.selected_pairs\n",
    "print(len(selected_pairs))\n",
    "\n",
    "views = dataset[0]\n",
    "view = views[1]"
   ],
   "id": "ea2083e659d7ecf8",
   "outputs": [
    {
     "name": "stderr",
     "output_type": "stream",
     "text": [
      "100%|██████████| 19/19 [00:05<00:00,  3.37it/s]"
     ]
    },
    {
     "name": "stdout",
     "output_type": "stream",
     "text": [
      "LEN selected_pairs 0\n",
      "249\n",
      "1\n"
     ]
    },
    {
     "name": "stderr",
     "output_type": "stream",
     "text": [
      "\n"
     ]
    }
   ],
   "execution_count": 3
  },
  {
   "metadata": {
    "ExecuteTime": {
     "end_time": "2025-01-01T21:50:12.471218Z",
     "start_time": "2025-01-01T21:50:12.465585Z"
    }
   },
   "cell_type": "code",
   "source": [
    "valid_points = np.copy(view[\"pts3d\"][view[\"valid_mask\"]])\n",
    "valid_points = valid_points.astype(np.float64)\n",
    "\n",
    "print(valid_points.shape)\n",
    "print(valid_points.dtype)"
   ],
   "id": "f1f5574733a97ad7",
   "outputs": [
    {
     "name": "stdout",
     "output_type": "stream",
     "text": [
      "(43670, 3)\n",
      "float64\n"
     ]
    }
   ],
   "execution_count": 4
  },
  {
   "metadata": {
    "ExecuteTime": {
     "end_time": "2025-01-01T21:30:50.238436Z",
     "start_time": "2025-01-01T21:30:50.232341Z"
    }
   },
   "cell_type": "code",
   "source": [
    "# points_new = np.array(valid_points[:10, ])\n",
    "# print(points_new.shape)\n",
    "# print(points_new.dtype)\n",
    "# print(points_new)\n",
    "# points_new = points_new.astype(np.float64)\n",
    "# valid_points = valid_points.astype(np.float64)"
   ],
   "id": "10bb0f0d6e344f85",
   "outputs": [
    {
     "name": "stdout",
     "output_type": "stream",
     "text": [
      "(10, 3)\n",
      "float64\n",
      "[[ -6.31342793   5.82752228 -20.76261139]\n",
      " [ -6.38282871   6.23450851 -21.00959396]\n",
      " [ -6.30468273   6.26910782 -21.05754662]\n",
      " [-10.69704151  21.76908302 -29.90265274]\n",
      " [-10.43704224  21.3627243  -29.71722221]\n",
      " [-10.74254799  22.85458755 -30.60616684]\n",
      " [-10.88243771  23.20835876 -30.79533386]\n",
      " [ -8.65737915  21.21623993 -30.19113922]\n",
      " [ -8.81993771  21.58157921 -30.38068581]\n",
      " [ -8.77456188  21.60211563 -30.40882683]]\n"
     ]
    }
   ],
   "execution_count": 17
  },
  {
   "metadata": {
    "ExecuteTime": {
     "end_time": "2025-01-01T21:50:15.839640Z",
     "start_time": "2025-01-01T21:50:15.834708Z"
    }
   },
   "cell_type": "code",
   "source": [
    "import open3d as o3d\n",
    "import time\n",
    "\n",
    "o3d.utility.set_verbosity_level(o3d.utility.VerbosityLevel.Debug)"
   ],
   "id": "c970dfea292e7d75",
   "outputs": [],
   "execution_count": 5
  },
  {
   "metadata": {
    "ExecuteTime": {
     "end_time": "2025-01-01T21:50:17.581760Z",
     "start_time": "2025-01-01T21:50:17.572172Z"
    }
   },
   "cell_type": "code",
   "source": [
    "import numpy as np\n",
    "\n",
    "def map_colors_to_points(view, rotation_angle=0):\n",
    "    intrinsics = view[\"camera_intrinsics\"]\n",
    "    # print(\"Camera Intrinsics (K):\\n\", intrinsics)\n",
    "    \n",
    "    # Extract extrinsics (camera pose)\n",
    "    extrinsics = view[\"camera_pose\"]  # camout2world matrix\n",
    "    # print(\"Camera Extrinsics (Pose - camout2world):\\n\", extrinsics)\n",
    "    \n",
    "    # Extract and filter point cloud\n",
    "    points_3d = view[\"pts3d\"]\n",
    "    valid_mask = view[\"valid_mask\"]\n",
    "    valid_points = points_3d[valid_mask]\n",
    "    # print(f\"Number of valid points in point cloud: {valid_points.shape[0]}\")\n",
    "    \n",
    "    # Rotate point cloud around Z-axis\n",
    "    rotation_matrix = np.array([\n",
    "        [np.cos(rotation_angle), -np.sin(rotation_angle), 0],\n",
    "        [np.sin(rotation_angle), np.cos(rotation_angle), 0],\n",
    "        [0, 0, 1]\n",
    "    ])\n",
    "    rotated_points = (rotation_matrix @ valid_points.T).T  # Apply rotation\n",
    "    \n",
    "    # Normalize the point cloud for coloring\n",
    "    z_min, z_max = rotated_points[:, 2].min(), rotated_points[:, 2].max()\n",
    "    normalized_z = (rotated_points[:, 2] - z_min) / (z_max - z_min)\n",
    "\n",
    "    return normalized_z\n"
   ],
   "id": "d81764cc3f58ec2c",
   "outputs": [],
   "execution_count": 6
  },
  {
   "metadata": {
    "ExecuteTime": {
     "end_time": "2025-01-01T21:50:24.492483Z",
     "start_time": "2025-01-01T21:50:24.483951Z"
    }
   },
   "cell_type": "code",
   "source": [
    "def save_point_cloud_with_colors(filename, points, colors):\n",
    "    \n",
    "    if points.ndim != 2 or points.shape[1] != 3:\n",
    "        raise ValueError(\"The points array must have shape (N, 3).\")\n",
    "    \n",
    "    if colors.ndim != 2 or colors.shape[1] != 3:\n",
    "        raise ValueError(\"The colors array must have shape (N, 3).\")\n",
    "    \n",
    "    if points.shape[0] != colors.shape[0]:\n",
    "        raise ValueError(\"The number of points and colors must match.\")\n",
    "    \n",
    "    # Create the point cloud\n",
    "    start_time = time.time()\n",
    "    point_cloud = o3d.geometry.PointCloud()\n",
    "    point_cloud.points = o3d.utility.Vector3dVector(points)\n",
    "    point_cloud.colors = o3d.utility.Vector3dVector(colors)  # Add colors\n",
    "    o3d.io.write_point_cloud(filename, point_cloud)\n",
    "    end_time = time.time()\n",
    "    \n",
    "    print(f\"Time taken: {end_time - start_time:.6f} seconds\")\n",
    "    print(f\"Point cloud with colors saved to {filename}\")"
   ],
   "id": "b39e8e1bfe2474c3",
   "outputs": [],
   "execution_count": 7
  },
  {
   "metadata": {
    "ExecuteTime": {
     "end_time": "2025-01-01T21:33:19.354154Z",
     "start_time": "2025-01-01T21:33:19.129975Z"
    }
   },
   "cell_type": "code",
   "source": [
    "# def save_point_cloud_to_ply(filename, points):\n",
    "#     print(points.shape)\n",
    "#     if points.ndim != 2 or points.shape[1] != 3:\n",
    "#         raise ValueError(\"The points array must have shape (N, 3).\")\n",
    "#     \n",
    "#     start_time = time.time()\n",
    "#     point_cloud = o3d.geometry.PointCloud()\n",
    "#     point_cloud.points = o3d.utility.Vector3dVector(points)\n",
    "#     end_time = time.time()\n",
    "#     \n",
    "#     print(f\"Time taken: {end_time - start_time:.6f} seconds\")\n",
    "#     \n",
    "#     # Comment the saving step temporarily:\n",
    "#     o3d.io.write_point_cloud(filename, point_cloud)\n",
    "#     print(f\"Point cloud saved to {filename}\")\n",
    "#     \n",
    "# # test_points = np.array([[0, 0, 0], [1, 1, 1], [2, 2, 2]], dtype=np.float64)\n",
    "# # save_point_cloud_to_ply(\"test_output.ply\", test_points)\n"
   ],
   "id": "50ae1d7b0454d6ee",
   "outputs": [],
   "execution_count": 5
  },
  {
   "metadata": {
    "ExecuteTime": {
     "end_time": "2025-01-01T21:54:39.933631Z",
     "start_time": "2025-01-01T21:54:39.927955Z"
    }
   },
   "cell_type": "code",
   "source": "colors = map_colors_to_points(view)",
   "id": "e8da8f26df6ccfe1",
   "outputs": [],
   "execution_count": 17
  },
  {
   "metadata": {
    "ExecuteTime": {
     "end_time": "2025-01-01T21:54:41.375969Z",
     "start_time": "2025-01-01T21:54:41.372442Z"
    }
   },
   "cell_type": "code",
   "source": [
    "print(colors.shape)\n",
    "print(colors.dtype)"
   ],
   "id": "839176e92ae40149",
   "outputs": [
    {
     "name": "stdout",
     "output_type": "stream",
     "text": [
      "(43670,)\n",
      "float64\n"
     ]
    }
   ],
   "execution_count": 18
  },
  {
   "metadata": {
    "ExecuteTime": {
     "end_time": "2025-01-01T21:55:04.883781Z",
     "start_time": "2025-01-01T21:55:04.877371Z"
    }
   },
   "cell_type": "code",
   "source": [
    "grayscale_normalized = colors / 255.0\n",
    "\n",
    "# Define RGB colors for blue (dark) and red (light)\n",
    "blue = np.array([0, 0, 1])  # RGB for blue\n",
    "red = np.array([1, 0, 0])   # RGB for red\n",
    "\n",
    "# Interpolate between blue and red\n",
    "colors = np.outer(1 - grayscale_normalized, blue) + np.outer(grayscale_normalized, red)\n",
    "\n",
    "\n",
    "# colors = np.stack([colors] * 3, axis=1)\n",
    "print(colors.shape)\n",
    "print(colors.dtype)"
   ],
   "id": "c7087c468ee909fd",
   "outputs": [
    {
     "name": "stdout",
     "output_type": "stream",
     "text": [
      "(43670, 3)\n",
      "float64\n"
     ]
    }
   ],
   "execution_count": 19
  },
  {
   "metadata": {
    "ExecuteTime": {
     "end_time": "2025-01-01T21:55:10.652859Z",
     "start_time": "2025-01-01T21:55:10.639899Z"
    }
   },
   "cell_type": "code",
   "source": "save_point_cloud_with_colors(\"/home/aleksandra/coral/models/dust3r/clouds/output_c1.ply\", valid_points, colors)",
   "id": "1295f46d92a168ae",
   "outputs": [
    {
     "name": "stdout",
     "output_type": "stream",
     "text": [
      "[Open3D DEBUG] Write geometry::PointCloud: 43670 vertices.\n",
      "Time taken: 0.008986 seconds\n",
      "Point cloud with colors saved to /home/aleksandra/coral/models/dust3r/clouds/output_c1.ply\n"
     ]
    }
   ],
   "execution_count": 20
  },
  {
   "metadata": {},
   "cell_type": "code",
   "source": "print(valid_points.dtype)",
   "id": "4a42c09316f9e6cd",
   "outputs": [],
   "execution_count": null
  },
  {
   "metadata": {},
   "cell_type": "code",
   "source": "valid_points",
   "id": "1ac7cd7b68015e4e",
   "outputs": [],
   "execution_count": null
  },
  {
   "metadata": {},
   "cell_type": "code",
   "source": "visualize_intrinsics_extrinsics_pointcloud(views[1], 90)",
   "id": "571c560067503a4f",
   "outputs": [],
   "execution_count": null
  },
  {
   "metadata": {},
   "cell_type": "code",
   "source": [
    "import pptk\n",
    "import numpy as np\n",
    "P = np.random.rand(100,3)\n",
    "v = pptk.viewer(P)"
   ],
   "id": "98c58f86154aea10",
   "outputs": [],
   "execution_count": null
  },
  {
   "metadata": {},
   "cell_type": "code",
   "source": [
    "import numpy as np\n",
    "import matplotlib.pyplot as plt\n",
    "from mpl_toolkits.mplot3d import Axes3D\n",
    "\n",
    "def visualize_intrinsics_extrinsics_pointcloud(view, rotation_angle=30):\n",
    "    # Extract intrinsics\n",
    "    intrinsics = view[\"camera_intrinsics\"]\n",
    "    # print(\"Camera Intrinsics (K):\\n\", intrinsics)\n",
    "    \n",
    "    # Extract extrinsics (camera pose)\n",
    "    extrinsics = view[\"camera_pose\"]  # camout2world matrix\n",
    "    # print(\"Camera Extrinsics (Pose - camout2world):\\n\", extrinsics)\n",
    "    \n",
    "    # Extract and filter point cloud\n",
    "    points_3d = view[\"pts3d\"]\n",
    "    valid_mask = view[\"valid_mask\"]\n",
    "    valid_points = points_3d[valid_mask]\n",
    "    # print(f\"Number of valid points in point cloud: {valid_points.shape[0]}\")\n",
    "    \n",
    "    # Rotate point cloud around Z-axis\n",
    "    rotation_matrix = np.array([\n",
    "        [np.cos(rotation_angle), -np.sin(rotation_angle), 0],\n",
    "        [np.sin(rotation_angle), np.cos(rotation_angle), 0],\n",
    "        [0, 0, 1]\n",
    "    ])\n",
    "    rotated_points = (rotation_matrix @ valid_points.T).T  # Apply rotation\n",
    "    \n",
    "    # Normalize the point cloud for coloring\n",
    "    z_min, z_max = rotated_points[:, 2].min(), rotated_points[:, 2].max()\n",
    "    normalized_z = (rotated_points[:, 2] - z_min) / (z_max - z_min)\n",
    "    \n",
    "    # Plot point cloud in 3D\n",
    "    fig = plt.figure(figsize=(12, 10))\n",
    "    ax = fig.add_subplot(111, projection=\"3d\")\n",
    "    \n",
    "    # Scatter plot of 3D points\n",
    "    scatter = ax.scatter(\n",
    "        rotated_points[:, 0], rotated_points[:, 1], rotated_points[:, 2],\n",
    "        s=5, c=normalized_z, cmap='plasma', marker='o'\n",
    "    )\n",
    "    ax.set_title(\"3D Point Cloud (Rotated)\", fontsize=14)\n",
    "    ax.set_xlabel(\"X-axis\")\n",
    "    ax.set_ylabel(\"Y-axis\")\n",
    "    ax.set_zlabel(\"Z-axis\")\n",
    "    \n",
    "    # Adjust axes limits to zoom in\n",
    "    buffer = 0.1  # Add a small buffer around the points\n",
    "    ax.set_xlim(rotated_points[:, 0].min() - buffer, rotated_points[:, 0].max() + buffer)\n",
    "    ax.set_ylim(rotated_points[:, 1].min() - buffer, rotated_points[:, 1].max() + buffer)\n",
    "    ax.set_zlim(rotated_points[:, 2].min() - buffer, rotated_points[:, 2].max() + buffer)\n",
    "    \n",
    "    # Add a colorbar to indicate depth\n",
    "    cbar = plt.colorbar(scatter, ax=ax, shrink=0.5, aspect=10)\n",
    "    cbar.set_label('Depth (Z-axis)', fontsize=12)\n",
    "    \n",
    "    plt.show()\n",
    "    \n",
    "    # Plot camera frustum (optional)\n",
    "    draw_camera_frustum(ax, intrinsics, extrinsics)\n",
    "\n",
    "def draw_camera_frustum(ax, intrinsics, extrinsics, scale=0.1):\n",
    "    # Camera intrinsics: fx, fy, cx, cy\n",
    "    fx, fy = intrinsics[0, 0], intrinsics[1, 1]\n",
    "    cx, cy = intrinsics[0, 2], intrinsics[1, 2]\n",
    "    \n",
    "    # Image corners in pixel coordinates (assuming normalized image plane)\n",
    "    image_corners = np.array([\n",
    "        [-cx / fx, -cy / fy, 1],   # Top-left\n",
    "        [(1 - cx) / fx, -cy / fy, 1],   # Top-right\n",
    "        [(1 - cx) / fx, (1 - cy) / fy, 1],  # Bottom-right\n",
    "        [-cx / fx, (1 - cy) / fy, 1]   # Bottom-left\n",
    "    ]) * scale  # Scale the size\n",
    "    \n",
    "    # Transform image corners to world coordinates using extrinsics\n",
    "    camera_origin = extrinsics[:3, 3]  # Camera origin in world coordinates\n",
    "    rotation = extrinsics[:3, :3]  # Camera rotation matrix\n",
    "    world_corners = (rotation @ image_corners.T).T + camera_origin\n",
    "\n",
    "    # Draw the frustum\n",
    "    for i, corner in enumerate(world_corners):\n",
    "        ax.plot(\n",
    "            [camera_origin[0], corner[0]],\n",
    "            [camera_origin[1], corner[1]],\n",
    "            [camera_origin[2], corner[2]],\n",
    "            'r--'\n",
    "        )\n",
    "    \n",
    "    # Connect the corners to form the frustum edges\n",
    "    edges = [(0, 1), (1, 2), (2, 3), (3, 0)]\n",
    "    for i, j in edges:\n",
    "        ax.plot(\n",
    "            [world_corners[i, 0], world_corners[j, 0]],\n",
    "            [world_corners[i, 1], world_corners[j, 1]],\n",
    "            [world_corners[i, 2], world_corners[j, 2]],\n",
    "            'r-'\n",
    "        )\n"
   ],
   "id": "ba4f5fe13abc72f9",
   "outputs": [],
   "execution_count": null
  },
  {
   "metadata": {},
   "cell_type": "code",
   "source": [
    "import numpy as np\n",
    "import matplotlib.pyplot as plt\n",
    "from mpl_toolkits.mplot3d import Axes3D\n",
    "\n",
    "def visualize_intrinsics_extrinsics_pointcloud(view):\n",
    "    # Extract intrinsics\n",
    "    intrinsics = view[\"camera_intrinsics\"]\n",
    "    print(\"Camera Intrinsics (K):\\n\", intrinsics)\n",
    "    \n",
    "    # Extract extrinsics (camera pose)\n",
    "    extrinsics = view[\"camera_pose\"]\n",
    "    print(\"Camera Extrinsics (Pose):\\n\", extrinsics)\n",
    "    \n",
    "    # Extract and filter point cloud\n",
    "    points_3d = view[\"pts3d\"]\n",
    "    valid_mask = view[\"valid_mask\"]\n",
    "    valid_points = points_3d[valid_mask]\n",
    "    print(f\"Number of valid points in point cloud: {valid_points.shape[0]}\")\n",
    "    \n",
    "    # Normalize the point cloud for coloring\n",
    "    z_min, z_max = valid_points[:, 2].min(), valid_points[:, 2].max()\n",
    "    normalized_z = (valid_points[:, 2] - z_min) / (z_max - z_min)\n",
    "    \n",
    "    # Plot point cloud in 3D\n",
    "    fig = plt.figure(figsize=(40, 20))\n",
    "    ax = fig.add_subplot(111, projection=\"3d\")\n",
    "    \n",
    "    # Scatter plot of 3D points\n",
    "    scatter = ax.scatter(\n",
    "        valid_points[:, 0], valid_points[:, 1], valid_points[:, 2],\n",
    "        s=5, c=normalized_z, cmap='plasma', marker='o'\n",
    "    )\n",
    "    ax.set_title(\"3D Point Cloud\", fontsize=14)\n",
    "    ax.set_xlabel(\"X-axis\")\n",
    "    ax.set_ylabel(\"Y-axis\")\n",
    "    ax.set_zlabel(\"Z-axis\")\n",
    "    \n",
    "    # Adjust axes limits to zoom in\n",
    "    buffer = 0.1  # Add a small buffer around the points\n",
    "    ax.set_xlim(valid_points[:, 0].min() - buffer, valid_points[:, 0].max() + buffer)\n",
    "    ax.set_ylim(valid_points[:, 1].min() - buffer, valid_points[:, 1].max() + buffer)\n",
    "    ax.set_zlim(valid_points[:, 2].min() - buffer, valid_points[:, 2].max() + buffer)\n",
    "    \n",
    "    # Add a colorbar to indicate depth\n",
    "    cbar = plt.colorbar(scatter, ax=ax, shrink=0.5, aspect=10)\n",
    "    cbar.set_label('Depth (Z-axis)', fontsize=12)\n",
    "    \n",
    "    plt.show()\n",
    "    \n",
    "    # Plot camera frustum (optional)\n",
    "    draw_camera_frustum(ax, intrinsics, extrinsics)\n",
    "\n",
    "def draw_camera_frustum(ax, intrinsics, extrinsics, scale=0.1):\n",
    "    \"\"\"\n",
    "    Draws the camera frustum in the 3D space.\n",
    "    \"\"\"\n",
    "    # Camera intrinsics: fx, fy, cx, cy\n",
    "    fx, fy = intrinsics[0, 0], intrinsics[1, 1]\n",
    "    cx, cy = intrinsics[0, 2], intrinsics[1, 2]\n",
    "    \n",
    "    # Image corners in pixel coordinates (assuming normalized image plane)\n",
    "    image_corners = np.array([\n",
    "        [-cx / fx, -cy / fy, 1],   # Top-left\n",
    "        [(1 - cx) / fx, -cy / fy, 1],   # Top-right\n",
    "        [(1 - cx) / fx, (1 - cy) / fy, 1],  # Bottom-right\n",
    "        [-cx / fx, (1 - cy) / fy, 1]   # Bottom-left\n",
    "    ]) * scale  # Scale the size\n",
    "    \n",
    "    # Transform image corners to world coordinates using extrinsics\n",
    "    camera_origin = extrinsics[:3, 3]  # Camera origin in world coordinates\n",
    "    rotation = extrinsics[:3, :3]  # Camera rotation matrix\n",
    "    world_corners = (rotation @ image_corners.T).T + camera_origin\n",
    "\n",
    "    # Draw the frustum\n",
    "    for i, corner in enumerate(world_corners):\n",
    "        ax.plot(\n",
    "            [camera_origin[0], corner[0]],\n",
    "            [camera_origin[1], corner[1]],\n",
    "            [camera_origin[2], corner[2]],\n",
    "            'r--'\n",
    "        )\n",
    "    \n",
    "    # Connect the corners to form the frustum edges\n",
    "    edges = [(0, 1), (1, 2), (2, 3), (3, 0)]\n",
    "    for i, j in edges:\n",
    "        ax.plot(\n",
    "            [world_corners[i, 0], world_corners[j, 0]],\n",
    "            [world_corners[i, 1], world_corners[j, 1]],\n",
    "            [world_corners[i, 2], world_corners[j, 2]],\n",
    "            'r-'\n",
    "        )\n"
   ],
   "id": "3479c7d0135086db",
   "outputs": [],
   "execution_count": null
  },
  {
   "metadata": {},
   "cell_type": "code",
   "source": [
    "import numpy as np\n",
    "import matplotlib.pyplot as plt\n",
    "from mpl_toolkits.mplot3d import Axes3D\n",
    "\n",
    "def visualize_intrinsics_extrinsics_pointcloud(view):\n",
    "    # Extract intrinsics\n",
    "    intrinsics = view[\"camera_intrinsics\"]\n",
    "    print(\"Camera Intrinsics (K):\\n\", intrinsics)\n",
    "    \n",
    "    # Extract extrinsics (camera pose)\n",
    "    extrinsics = view[\"camera_pose\"]\n",
    "    print(\"Camera Extrinsics (Pose):\\n\", extrinsics)\n",
    "    \n",
    "    # Extract and filter point cloud\n",
    "    points_3d = view[\"pts3d\"]\n",
    "    valid_mask = view[\"valid_mask\"]\n",
    "    valid_points = points_3d[valid_mask]\n",
    "    print(f\"Number of valid points in point cloud: {valid_points.shape[0]}\")\n",
    "    \n",
    "    # Plot point cloud in 3D\n",
    "    fig = plt.figure(figsize=(30, 10))\n",
    "    ax = fig.add_subplot(111, projection=\"3d\")\n",
    "    \n",
    "    # Scatter plot of 3D points\n",
    "    ax.scatter(valid_points[:, 0], valid_points[:, 1], valid_points[:, 2],\n",
    "               s=0.1, c=valid_points[:, 2], cmap='viridis', marker='o')\n",
    "    ax.set_title(\"3D Point Cloud\")\n",
    "    ax.set_xlabel(\"X-axis\")\n",
    "    ax.set_ylabel(\"Y-axis\")\n",
    "    ax.set_zlabel(\"Z-axis\")\n",
    "    plt.show()\n",
    "    \n",
    "    # Plot camera frustum (optional)\n",
    "    draw_camera_frustum(ax, intrinsics, extrinsics)\n",
    "\n",
    "def draw_camera_frustum(ax, intrinsics, extrinsics, scale=0.1):\n",
    "    \"\"\"\n",
    "    Draws the camera frustum in the 3D space.\n",
    "    \"\"\"\n",
    "    # Camera intrinsics: fx, fy, cx, cy\n",
    "    fx, fy = intrinsics[0, 0], intrinsics[1, 1]\n",
    "    cx, cy = intrinsics[0, 2], intrinsics[1, 2]\n",
    "    \n",
    "    # Image corners in pixel coordinates (assuming normalized image plane)\n",
    "    image_corners = np.array([\n",
    "        [-cx / fx, -cy / fy, 1],   # Top-left\n",
    "        [(1 - cx) / fx, -cy / fy, 1],   # Top-right\n",
    "        [(1 - cx) / fx, (1 - cy) / fy, 1],  # Bottom-right\n",
    "        [-cx / fx, (1 - cy) / fy, 1]   # Bottom-left\n",
    "    ]) * scale  # Scale the size\n",
    "    \n",
    "    # Transform image corners to world coordinates using extrinsics\n",
    "    camera_origin = extrinsics[:3, 3]  # Camera origin in world coordinates\n",
    "    rotation = extrinsics[:3, :3]  # Camera rotation matrix\n",
    "    world_corners = (rotation @ image_corners.T).T + camera_origin\n",
    "\n",
    "    # Draw the frustum\n",
    "    for i, corner in enumerate(world_corners):\n",
    "        ax.plot(\n",
    "            [camera_origin[0], corner[0]],\n",
    "            [camera_origin[1], corner[1]],\n",
    "            [camera_origin[2], corner[2]],\n",
    "            'r--'\n",
    "        )\n",
    "    \n",
    "    # Connect the corners to form the frustum edges\n",
    "    edges = [(0, 1), (1, 2), (2, 3), (3, 0)]\n",
    "    for i, j in edges:\n",
    "        ax.plot(\n",
    "            [world_corners[i, 0], world_corners[j, 0]],\n",
    "            [world_corners[i, 1], world_corners[j, 1]],\n",
    "            [world_corners[i, 2], world_corners[j, 2]],\n",
    "            'r-'\n",
    "        )"
   ],
   "id": "ebf36b195461d332",
   "outputs": [],
   "execution_count": null
  },
  {
   "metadata": {},
   "cell_type": "code",
   "source": [
    "views = dataset[0]  # Fetch the first element\n",
    "\n",
    "for view in views:\n",
    "    print(view[\"instance\"])\n",
    "    print(\"Image shape:\", view[\"img\"].shape)\n",
    "    print(\"Depth map shape:\", view[\"depthmap\"].shape)\n",
    "    print(\"Camera intrinsics:\\n\", view[\"camera_intrinsics\"])\n",
    "    print(\"Camera pose:\\n\", view[\"camera_pose\"])\n",
    "\n",
    "    # Visualize depth map\n",
    "    import matplotlib.pyplot as plt\n",
    "    plt.imshow(view[\"depthmap\"])\n",
    "    plt.title(\"Depth Map\")\n",
    "    plt.show()\n",
    "\n",
    "    # Check 3D points\n",
    "    pts3d = view[\"pts3d\"]\n",
    "    print(\"3D points shape:\", pts3d.shape)\n",
    "    print(\"Valid mask:\", view[\"valid_mask\"].sum(), \"valid points\")"
   ],
   "id": "647b2edc17be72bd",
   "outputs": [],
   "execution_count": null
  },
  {
   "metadata": {},
   "cell_type": "code",
   "source": [
    "view = views[0]\n",
    "pcd = o3d.geometry.PointCloud()"
   ],
   "id": "5d47b63a5e3f4c80",
   "outputs": [],
   "execution_count": null
  },
  {
   "metadata": {},
   "cell_type": "code",
   "source": "pointcloud1 = pointcloud1[np.random.choice(len(pointcloud1), pixels_count, replace=False)]",
   "id": "a93dfa884d9c2ab5",
   "outputs": [],
   "execution_count": null
  },
  {
   "metadata": {},
   "cell_type": "code",
   "source": "pointcloud1 = view[\"pts3d\"][view[\"valid_mask\"]]",
   "id": "b0d8830092a0c315",
   "outputs": [],
   "execution_count": null
  },
  {
   "metadata": {},
   "cell_type": "code",
   "source": "pointcloud1 = pointcloud1[np.random.choice(len(pointcloud1), 10, replace=False)]",
   "id": "63d86867e1842c68",
   "outputs": [],
   "execution_count": null
  },
  {
   "metadata": {},
   "cell_type": "code",
   "source": "pcd.points = o3d.utility.Vector3dVector(pointcloud1)",
   "id": "3d7956e46cb3fc1d",
   "outputs": [],
   "execution_count": null
  },
  {
   "metadata": {},
   "cell_type": "code",
   "source": [
    "a = np.array([[1, 2, 3],\n",
    "             [4, 5, 6], \n",
    "             [7, 8, 9]])\n",
    "    \n",
    "a[:2, 2].round().astype(int)"
   ],
   "id": "1f0756dc5894d419",
   "outputs": [],
   "execution_count": null
  },
  {
   "metadata": {},
   "cell_type": "code",
   "source": [
    "# from tqdm import tqdm\n",
    "# \n",
    "# valid_points = view[\"pts3d\"][view[\"valid_mask\"]].astype(np.float64)  # Ensure dtype is float64\n",
    "# \n",
    "# # Create the point cloud\n",
    "# pcd = o3d.geometry.PointCloud()\n",
    "# \n",
    "# # Use tqdm to monitor progress (if needed for other tasks, but avoid looping per point for Open3D)\n",
    "# for _ in tqdm(range(1), desc=\"Processing Points\", unit=\"points\"):\n",
    "#     pcd.points = o3d.utility.Vector3dVector(valid_points)  # Assign all points at once"
   ],
   "id": "cced03425f29bb18",
   "outputs": [],
   "execution_count": null
  },
  {
   "metadata": {},
   "cell_type": "code",
   "source": [
    "o3d.io.write_point_cloud(\"pointcloud.ply\", pcd)\n",
    "print(\"Point cloud saved to 'pointcloud.ply'\")"
   ],
   "id": "9af6ae7ee86272e1",
   "outputs": [],
   "execution_count": null
  },
  {
   "metadata": {},
   "cell_type": "code",
   "source": [
    "pcd = o3d.geometry.PointCloud()\n",
    "pcd.points = o3d.utility.Vector3dVector(view[\"pts3d\"][view[\"valid_mask\"]])"
   ],
   "id": "c1853f42893d7ee2",
   "outputs": [],
   "execution_count": null
  },
  {
   "metadata": {},
   "cell_type": "code",
   "source": "o3d.visualization.draw_geometries([pcd])",
   "id": "f0c445ab11cb5e7d",
   "outputs": [],
   "execution_count": null
  },
  {
   "metadata": {},
   "cell_type": "code",
   "source": [
    "def visualize_cameras_and_pointcloud(camera_extrinsics, intrinsics, point_cloud):\n",
    "    vis = o3d.visualization.Visualizer()\n",
    "    vis.create_window()\n",
    "\n",
    "    # Create Open3D point cloud\n",
    "    pc = o3d.geometry.PointCloud()\n",
    "    pc.points = o3d.utility.Vector3dVector(point_cloud)\n",
    "    vis.add_geometry(pc)\n",
    "\n",
    "    # Visualize cameras\n",
    "    for extrinsic in camera_extrinsics:\n",
    "        cam_frame = o3d.geometry.LineSet.create_camera_visualization(\n",
    "            intrinsics.width, intrinsics.height, intrinsics.intrinsic_matrix, extrinsic, scale=0.1\n",
    "        )\n",
    "        vis.add_geometry(cam_frame)\n",
    "\n",
    "    vis.run()\n",
    "    vis.destroy_window()\n",
    "\n",
    "def reproject_points(points_3d, intrinsics):\n",
    "    fx, fy, cx, cy = intrinsics[\"fx\"], intrinsics[\"fy\"], intrinsics[\"cx\"], intrinsics[\"cy\"]\n",
    "    u = fx * points_3d[:, 0] / points_3d[:, 2] + cx\n",
    "    v = fy * points_3d[:, 1] / points_3d[:, 2] + cy\n",
    "    return np.stack([u, v], axis=-1)"
   ],
   "id": "e1210f22c1bc406f",
   "outputs": [],
   "execution_count": null
  },
  {
   "metadata": {},
   "cell_type": "code",
   "source": "",
   "id": "985c909a3542a547",
   "outputs": [],
   "execution_count": null
  },
  {
   "metadata": {},
   "cell_type": "code",
   "source": [
    "def visualize_pointclouds(gt_pointcloud, predicted_pointcloud):\n",
    "    vis = o3d.visualization.Visualizer()\n",
    "    vis.create_window()\n",
    "\n",
    "    # Ground truth point cloud\n",
    "    gt_pc = o3d.geometry.PointCloud()\n",
    "    gt_pc.points = o3d.utility.Vector3dVector(gt_pointcloud)\n",
    "    gt_pc.paint_uniform_color([1, 0, 0])  # Red for ground truth\n",
    "    vis.add_geometry(gt_pc)\n",
    "\n",
    "    # Predicted point cloud\n",
    "    pred_pc = o3d.geometry.PointCloud()\n",
    "    pred_pc.points = o3d.utility.Vector3dVector(predicted_pointcloud)\n",
    "    pred_pc.paint_uniform_color([0, 1, 0])  # Green for prediction\n",
    "    vis.add_geometry(pred_pc)\n",
    "\n",
    "    vis.run()\n",
    "    vis.destroy_window()"
   ],
   "id": "3795af9ac04b659b",
   "outputs": [],
   "execution_count": null
  }
 ],
 "metadata": {
  "kernelspec": {
   "display_name": "Python 3",
   "language": "python",
   "name": "python3"
  },
  "language_info": {
   "codemirror_mode": {
    "name": "ipython",
    "version": 2
   },
   "file_extension": ".py",
   "mimetype": "text/x-python",
   "name": "python",
   "nbconvert_exporter": "python",
   "pygments_lexer": "ipython2",
   "version": "2.7.6"
  }
 },
 "nbformat": 4,
 "nbformat_minor": 5
}
