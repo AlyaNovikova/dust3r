{
 "cells": [
  {
   "cell_type": "code",
   "id": "initial_id",
   "metadata": {
    "collapsed": true,
    "ExecuteTime": {
     "end_time": "2024-12-20T10:08:53.395524Z",
     "start_time": "2024-12-20T10:08:50.568800Z"
    }
   },
   "source": [
    "import os.path as osp\n",
    "import cv2\n",
    "import numpy as np\n",
    "\n",
    "import sys\n",
    "sys.path.append('../../../') \n",
    "\n",
    "from dust3r.datasets.base.base_stereo_view_dataset import BaseStereoViewDataset\n",
    "from dust3r.utils.image import imread_cv2\n",
    "from dust3r.datasets import UnderWaterDataset"
   ],
   "outputs": [],
   "execution_count": 1
  },
  {
   "metadata": {
    "jupyter": {
     "is_executing": true
    },
    "ExecuteTime": {
     "start_time": "2024-12-20T10:08:53.396807Z"
    }
   },
   "cell_type": "code",
   "source": "dataset = UnderWaterDataset(split='train', ROOT='/home/aleksandra/dense_glomap_output', resolution=224)",
   "id": "38859acdbd118601",
   "outputs": [
    {
     "name": "stderr",
     "output_type": "stream",
     "text": [
      "  0%|          | 0/3199 [00:00<?, ?it/s]"
     ]
    }
   ],
   "execution_count": null
  },
  {
   "metadata": {
    "jupyter": {
     "is_executing": true
    }
   },
   "cell_type": "code",
   "source": [
    "def index_check(index=0):\n",
    "    print(dataset.selected_pairs[index])\n",
    "    print(dataset[index][0]['instance'], dataset[index][1]['instance'], )"
   ],
   "id": "c5b6a38c0d2fd597",
   "outputs": [],
   "execution_count": null
  },
  {
   "metadata": {
    "jupyter": {
     "is_executing": true
    }
   },
   "cell_type": "code",
   "source": [
    "index_check(0)\n",
    "index_check(1)\n",
    "index_check(10)\n",
    "index_check(-1)\n",
    "index_check(-2)\n",
    "index_check(-10)"
   ],
   "id": "10749006ff8a9d36",
   "outputs": [],
   "execution_count": null
  },
  {
   "metadata": {
    "jupyter": {
     "is_executing": true
    }
   },
   "cell_type": "code",
   "source": [
    "print(len(dataset.split_data))\n",
    "selected_pairs = dataset.selected_pairs\n",
    "print(len(selected_pairs))"
   ],
   "id": "a7138b10ab93ba6e",
   "outputs": [],
   "execution_count": null
  },
  {
   "metadata": {
    "jupyter": {
     "is_executing": true
    }
   },
   "cell_type": "code",
   "source": "selected_pairs[:10]",
   "id": "49d8553128065adf",
   "outputs": [],
   "execution_count": null
  },
  {
   "metadata": {
    "jupyter": {
     "is_executing": true
    }
   },
   "cell_type": "code",
   "source": "selected_pairs[-10:]",
   "id": "563e274bda511dde",
   "outputs": [],
   "execution_count": null
  },
  {
   "metadata": {
    "jupyter": {
     "is_executing": true
    }
   },
   "cell_type": "code",
   "source": [
    "import matplotlib.pyplot as plt\n",
    "\n",
    "data_pairs = dataset.selected_pairs  \n",
    "\n",
    "scores = [entry[2] for entry in data_pairs] \n",
    "\n",
    "plt.figure(figsize=(10, 6))\n",
    "plt.hist(scores, bins=30, color='blue', alpha=0.7, edgecolor='black')\n",
    "plt.title('Distribution of Scores in Dataset')\n",
    "plt.xlabel('Score')\n",
    "plt.ylabel('Frequency')\n",
    "plt.grid(axis='y', linestyle='--', alpha=0.7)\n",
    "\n",
    "plt.show()"
   ],
   "id": "4c7d59578c267be1",
   "outputs": [],
   "execution_count": null
  },
  {
   "metadata": {
    "jupyter": {
     "is_executing": true
    }
   },
   "cell_type": "code",
   "source": [
    "top_50_scores = sorted(scores, reverse=True)[:50]\n",
    "last_50_scores = sorted(scores)[:50]\n",
    "\n",
    "top_50_distances = [abs(entry[0] - entry[1]) for entry in data_pairs if entry[2] in top_50_scores]\n",
    "last_50_distances = [abs(entry[0] - entry[1]) for entry in data_pairs if entry[2] in last_50_scores]\n",
    "\n",
    "plt.figure(figsize=(10, 6))\n",
    "plt.hist(top_50_distances, bins=20, color='orange', alpha=0.7, label='Top 50 Scores')\n",
    "plt.hist(last_50_distances, bins=20, color='cyan', alpha=0.3, label='Last 50 Scores')\n",
    "plt.title('Histogram of Distances for Top 50 and Last 50 Scores')\n",
    "plt.xlabel('Distance (|i - j|)')\n",
    "plt.ylabel('Frequency')\n",
    "plt.legend()\n",
    "plt.grid(axis='y', linestyle='--', alpha=0.7)\n",
    "\n",
    "plt.tight_layout()\n",
    "plt.show()\n"
   ],
   "id": "9fe71fe2d64ca2e5",
   "outputs": [],
   "execution_count": null
  },
  {
   "metadata": {
    "jupyter": {
     "is_executing": true
    }
   },
   "cell_type": "code",
   "source": [
    "import matplotlib.pyplot as plt\n",
    "\n",
    "data_pairs = dataset.selected_pairs  \n",
    "\n",
    "scores = [entry[2] for entry in data_pairs] \n",
    "\n",
    "plt.figure(figsize=(10, 6))\n",
    "plt.plot(sorted(scores), np.linspace(0, 1, len(scores)), color='blue', alpha=1)\n",
    "plt.title('Cumulative Distribution of Scores in Dataset')\n",
    "plt.xlabel('Score')\n",
    "plt.ylabel('Cumulative Probability')\n",
    "plt.grid(axis='y', linestyle='--', alpha=0.7)\n",
    "\n",
    "plt.show()"
   ],
   "id": "8fc41e022b1354b6",
   "outputs": [],
   "execution_count": null
  },
  {
   "metadata": {
    "jupyter": {
     "is_executing": true
    }
   },
   "cell_type": "code",
   "source": [
    "import matplotlib.pyplot as plt\n",
    "\n",
    "data_pairs = dataset.selected_pairs  \n",
    "\n",
    "scores = [entry[3] for entry in data_pairs] \n",
    "\n",
    "plt.figure(figsize=(10, 6))\n",
    "plt.hist(scores, bins=30, color='blue', alpha=0.7, edgecolor='black')\n",
    "plt.title('Distribution of Angle between Images in Dataset')\n",
    "plt.xlabel('Angle')\n",
    "plt.ylabel('Frequency')\n",
    "plt.grid(axis='y', linestyle='--', alpha=0.7)\n",
    "\n",
    "plt.show()"
   ],
   "id": "fbd658004ada3272",
   "outputs": [],
   "execution_count": null
  },
  {
   "metadata": {
    "jupyter": {
     "is_executing": true
    }
   },
   "cell_type": "code",
   "source": [
    "distances = [abs(entry[0] - entry[1]) for entry in data_pairs] \n",
    "\n",
    "plt.figure(figsize=(10, 6))\n",
    "plt.hist(distances, bins=30, color='green', alpha=0.7, edgecolor='black')\n",
    "plt.title('Distribution of Distances Between Picture IDs')\n",
    "plt.xlabel('Distance (|i - j|)')\n",
    "plt.ylabel('Frequecy')\n",
    "plt.grid(axis='y', linestyle='--', alpha=0.7)\n",
    "\n",
    "plt.show()\n"
   ],
   "id": "f21bbb078315e35e",
   "outputs": [],
   "execution_count": null
  },
  {
   "metadata": {
    "jupyter": {
     "is_executing": true
    }
   },
   "cell_type": "code",
   "source": [
    "import matplotlib.pyplot as plt\n",
    "import os.path as osp\n",
    "import cv2\n",
    "\n",
    "\n",
    "for i in range(10):\n",
    "    fig, axs = plt.subplots(1, 2, figsize=(20, 10))\n",
    "    \n",
    "    root = dataset[i][0]['label']\n",
    "    name1 = dataset[i][0]['instance']\n",
    "    name2 = dataset[i][1]['instance']\n",
    "    \n",
    "    rgb_image_path = osp.join(root, dataset.images_path, name1)\n",
    "    rgb_image1 = imread_cv2(rgb_image_path)\n",
    "    \n",
    "    rgb_image_path = osp.join(root, dataset.images_path, name2)\n",
    "    rgb_image2 = imread_cv2(rgb_image_path)\n",
    "    \n",
    "    axs[0].imshow(rgb_image1)\n",
    "    axs[0].set_title(f'View 1: {name1}')\n",
    "\n",
    "    axs[1].imshow(rgb_image2)\n",
    "    axs[1].set_title(f'View 2: {name2}')\n",
    "\n",
    "    plt.show()"
   ],
   "id": "d29763198bac370e",
   "outputs": [],
   "execution_count": null
  },
  {
   "metadata": {
    "jupyter": {
     "is_executing": true
    }
   },
   "cell_type": "code",
   "source": [
    "import matplotlib.pyplot as plt\n",
    "import os.path as osp\n",
    "import cv2\n",
    "\n",
    "\n",
    "for i in range(10):\n",
    "    fig, axs = plt.subplots(1, 2, figsize=(20, 10))\n",
    "    \n",
    "    root = dataset[-i][0]['label']\n",
    "    name1 = dataset[-i][0]['instance']\n",
    "    name2 = dataset[-i][1]['instance']\n",
    "    \n",
    "    rgb_image_path = osp.join(root, dataset.images_path, name1)\n",
    "    rgb_image1 = imread_cv2(rgb_image_path)\n",
    "    \n",
    "    rgb_image_path = osp.join(root, dataset.images_path, name2)\n",
    "    rgb_image2 = imread_cv2(rgb_image_path)\n",
    "    \n",
    "    axs[0].imshow(rgb_image1)\n",
    "    axs[0].set_title(f'View 1: {name1}')\n",
    "\n",
    "    axs[1].imshow(rgb_image2)\n",
    "    axs[1].set_title(f'View 2: {name2}')\n",
    "\n",
    "    plt.show()"
   ],
   "id": "2496c02243cdf15c",
   "outputs": [],
   "execution_count": null
  },
  {
   "metadata": {
    "jupyter": {
     "is_executing": true
    }
   },
   "cell_type": "code",
   "source": "# np.transpose(dataset[0][0]['img'], (1, 2, 0)).shape",
   "id": "1141c13b9bed477",
   "outputs": [],
   "execution_count": null
  },
  {
   "metadata": {
    "jupyter": {
     "is_executing": true
    }
   },
   "cell_type": "code",
   "source": [
    "# import matplotlib.pyplot as plt\n",
    "# \n",
    "# for i in range(10):\n",
    "#     fig, axs = plt.subplots(1, 2, figsize=(10, 5))\n",
    "#     \n",
    "#     views1 = dataset[i][0]['img']\n",
    "#     views1 = np.transpose(views1, (1, 2, 0))\n",
    "#     \n",
    "#     views2 = dataset[i][1]['img']\n",
    "#     views2 = np.transpose(views2, (1, 2, 0))\n",
    "#     \n",
    "#     axs[0].imshow(views1)\n",
    "#     axs[0].set_title('View 1')\n",
    "# \n",
    "#     axs[1].imshow(views2)\n",
    "#     axs[1].set_title('View 2')\n",
    "# \n",
    "#     plt.show()"
   ],
   "id": "3c5c0de28b0031bd",
   "outputs": [],
   "execution_count": null
  }
 ],
 "metadata": {
  "kernelspec": {
   "display_name": "Python 3",
   "language": "python",
   "name": "python3"
  },
  "language_info": {
   "codemirror_mode": {
    "name": "ipython",
    "version": 2
   },
   "file_extension": ".py",
   "mimetype": "text/x-python",
   "name": "python",
   "nbconvert_exporter": "python",
   "pygments_lexer": "ipython2",
   "version": "2.7.6"
  }
 },
 "nbformat": 4,
 "nbformat_minor": 5
}
