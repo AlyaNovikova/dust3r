{
 "cells": [
  {
   "cell_type": "code",
   "id": "initial_id",
   "metadata": {
    "collapsed": true,
    "ExecuteTime": {
     "end_time": "2024-12-08T19:59:59.527776Z",
     "start_time": "2024-12-08T19:59:59.475814Z"
    }
   },
   "source": "import numpy as np\n",
   "outputs": [],
   "execution_count": 1
  },
  {
   "metadata": {
    "ExecuteTime": {
     "end_time": "2024-12-08T22:17:52.995938Z",
     "start_time": "2024-12-08T22:17:50.930666Z"
    }
   },
   "cell_type": "code",
   "source": [
    "import os.path as osp\n",
    "import cv2\n",
    "import numpy as np\n",
    "\n",
    "import sys\n",
    "sys.path.append('../../../') \n",
    "\n",
    "from dust3r.datasets.base.base_stereo_view_dataset import BaseStereoViewDataset\n",
    "from dust3r.utils.image import imread_cv2\n"
   ],
   "id": "ecc2195b5879f95f",
   "outputs": [],
   "execution_count": 3
  },
  {
   "metadata": {
    "ExecuteTime": {
     "end_time": "2024-12-08T22:37:53.563640Z",
     "start_time": "2024-12-08T22:37:38.239967Z"
    }
   },
   "cell_type": "code",
   "source": [
    "from itertools import combinations\n",
    "from collections import defaultdict\n",
    "from tqdm.auto import tqdm\n",
    "from scipy.spatial import cKDTree\n",
    "from sklearn.neighbors import NearestNeighbors\n",
    "\n",
    "def compute_pointcloud_overlaps_scikit(pointcloud1, pointcloud2, distance_threshold=0.05, compute_symmetric=False):\n",
    "    \"\"\"\n",
    "    Compute 'overlapping' metrics based on a distance threshold between two point clouds.\n",
    "    \"\"\"\n",
    "    nbrs = NearestNeighbors(n_neighbors=1, algorithm = 'kd_tree').fit(pointcloud2)\n",
    "    distances, indices = nbrs.kneighbors(pointcloud1)\n",
    "    intersection = np.count_nonzero(distances.flatten() < distance_threshold)\n",
    "\n",
    "    return intersection\n",
    "\n",
    "def simulate_occlusion(point_cloud, radius):\n",
    "    \"\"\"\n",
    "    Simulates occlusion by attaching a ball of fixed radius to each 3D point.\n",
    "    Points occluded by another point within the radius are removed.\n",
    "\n",
    "    Parameters:\n",
    "    - point_cloud: numpy.ndarray of shape (N, 3) or (H, W, 3), the input 3D point cloud.\n",
    "    - radius: float, the radius of the occlusion ball.\n",
    "\n",
    "    Returns:\n",
    "    - visible_points: numpy.ndarray of shape (M, 3), the filtered point cloud\n",
    "      with occluded points removed.\n",
    "    \"\"\"\n",
    "    # Ensure point cloud is 2D\n",
    "    if len(point_cloud.shape) == 3:\n",
    "        point_cloud = point_cloud.reshape(-1, 3)\n",
    "\n",
    "    # Use KDTree for efficient neighborhood queries\n",
    "    tree = cKDTree(point_cloud)\n",
    "    \n",
    "    # Find all neighbors within the radius\n",
    "    indices = tree.query_ball_tree(tree, radius)\n",
    "    \n",
    "    # Mark visible points (only the first point in each neighborhood is visible)\n",
    "    visible_mask = np.full(len(point_cloud), True, dtype=bool)\n",
    "    for i, neighbors in enumerate(indices):\n",
    "        if visible_mask[i]:\n",
    "            # Mark all neighbors as occluded except the first point\n",
    "            for neighbor in neighbors[1:]:\n",
    "                visible_mask[neighbor] = False\n",
    "    \n",
    "    # Filter point cloud\n",
    "    visible_points = point_cloud[visible_mask]\n",
    "    return visible_points\n",
    "\n",
    "def compute_iou_with_occlusion(pc1, pc2, radius=0.0005):\n",
    "    \"\"\"\n",
    "    Computes the IoU between two 3D point clouds with artificial occlusion.\n",
    "\n",
    "    Parameters:\n",
    "    - pc1: numpy.ndarray of shape (N, 3) or (H, W, 3), first 3D point cloud.\n",
    "    - pc2: numpy.ndarray of shape (M, 3) or (H, W, 3), second 3D point cloud.\n",
    "    - radius: float, the radius of the occlusion ball.\n",
    "\n",
    "    Returns:\n",
    "    - iou: float, the Intersection over Union (IoU) value.\n",
    "    \"\"\"\n",
    "    # # Simulate occlusion\n",
    "    visible_pc1 = simulate_occlusion(pc1, radius)\n",
    "    visible_pc2 = simulate_occlusion(pc2, radius)\n",
    "    \n",
    "    print(pc1.shape, visible_pc1.shape)\n",
    "    \n",
    "    # visible_pc1 = pc1\n",
    "    # visible_pc2 = pc2\n",
    "    \n",
    "    print(len(visible_pc1))\n",
    "    print(len(visible_pc2))\n",
    "    \n",
    "    pc1_set = set(map(tuple, np.round(visible_pc1, decimals=5))) \n",
    "    pc2_set = set(map(tuple, np.round(visible_pc2, decimals=5)))\n",
    "    \n",
    "    # Compute intersection and union\n",
    "    intersection = pc1_set.intersection(pc2_set)\n",
    "    \n",
    "    # intersection = compute_pointcloud_overlaps_scikit(visible_pc1, visible_pc2)\n",
    "    \n",
    "    if intersection == 0:\n",
    "        return 0\n",
    "    \n",
    "    print('intersection', len(intersection))\n",
    "    print('pc1_set', list(pc1_set)[:10])\n",
    "    print('pc2_set', list(pc2_set)[:10])\n",
    "    \n",
    "    union = pc1_set.union(pc2_set)\n",
    "    \n",
    "    print('union', len(union))\n",
    "    \n",
    "    # IoU calculation\n",
    "    iou = len(intersection) / len(union) if len(union) > 0 else 0.0\n",
    "    return iou\n",
    "\n",
    "def quality_pair_score(iou, alpha):\n",
    "    \"\"\"\n",
    "    Compute the quality pair score s = IoU × 4 cos(α)(1 - cos(α))\n",
    "    \"\"\"\n",
    "    angle_term = 4 * np.cos(alpha) * (1 - np.cos(alpha))\n",
    "    return iou * angle_term if angle_term > 0 else 0\n",
    "\n",
    "def select_best_pairs(dataset, iou_threshold=0.75, score_threshold=0.1, pairs_per_image=5, pairs_number=10):\n",
    "    \"\"\"\n",
    "    Select the best image pairs using a greedy algorithm\n",
    "    \"\"\"\n",
    "    # pairs = list(combinations(dataset, 2))\n",
    "    pair_scores = []\n",
    "\n",
    "    for i in range(100):\n",
    "        img1 = dataset[i][0]\n",
    "        img2 = dataset[i][1]\n",
    "        \n",
    "        print(img1['idx'], img2['idx'])\n",
    "        \n",
    "        iou = compute_iou_with_occlusion(img1['pts3d'], img2['pts3d'])\n",
    "        # print('IOU', iou)\n",
    "        if iou == 0:\n",
    "            continue\n",
    "        \n",
    "        pose1, pose2 = img1['camera_pose'], img2['camera_pose']\n",
    "        rotation_diff = pose1[:3, :3].T @ pose2[:3, :3]  # Relative rotation matrix\n",
    "        alpha = np.arccos(np.clip((np.trace(rotation_diff) - 1) / 2, -1, 1))  # Angle in radians\n",
    "        \n",
    "        score = quality_pair_score(iou, alpha)\n",
    "        # print('SCORE', img1['idx'], img2['idx'], score)\n",
    "        if score > score_threshold:\n",
    "            pair_scores.append((score, img1, img2))\n",
    "\n",
    "    pair_scores.sort(key=lambda x: x[0], reverse=True)\n",
    "\n",
    "    selected_pairs = []\n",
    "    used_images = set()\n",
    "\n",
    "    for score, img1, img2 in pair_scores:\n",
    "        if img1['idx'] in used_images or img2['idx'] in used_images:\n",
    "            continue\n",
    "\n",
    "        selected_pairs.append((img1, img2))\n",
    "        used_images.add(img1['idx'])\n",
    "        used_images.add(img2['idx'])\n",
    "\n",
    "        for img in dataset:\n",
    "            if img['idx'] not in used_images:\n",
    "                if compute_iou(img['pts3d'], img1['pts3d']) > iou_threshold or \\\n",
    "                   compute_iou(img['pts3d'], img2['pts3d']) > iou_threshold:\n",
    "                    used_images.add(img['idx'])\n",
    "                    \n",
    "    # used_images = defaultdict(int)\n",
    "    # \n",
    "    # for score, img1, img2 in pair_scores:\n",
    "    #     if used_images[img1['idx']] > pairs_per_image or used_images[img2['idx']] > pairs_per_image:\n",
    "    #         continue\n",
    "    # \n",
    "    #     selected_pairs.append((img1, img2))\n",
    "    #     used_images[img1['idx']] += 1\n",
    "    #     used_images[img2['idx']] += 1\n",
    "\n",
    "    # if len(selected_pairs) < pairs_number: \n",
    "    #     for i in range(len(dataset) - 1):\n",
    "    #         if len(selected_pairs) >= pairs_number:\n",
    "    #             break\n",
    "    #         img1, img2 = dataset[i], dataset[i + 1]\n",
    "    #         selected_pairs.append((img1, img2))\n",
    "\n",
    "    return selected_pairs\n",
    "\n",
    "selected_pairs = select_best_pairs(dataset)\n",
    "for img1, img2 in selected_pairs:\n",
    "    print(f\"Selected pair: Image {img1['idx']} and Image {img2['idx']}\")"
   ],
   "id": "1cf678ef326418c0",
   "outputs": [
    {
     "name": "stdout",
     "output_type": "stream",
     "text": [
      "(0, 0, 0) (0, 0, 1)\n",
      "(224, 224, 3) (46286, 3)\n",
      "46286\n",
      "45807\n",
      "intersection 0\n",
      "pc1_set [(np.float32(0.53887), np.float32(19.93385), np.float32(39.68432)), (np.float32(-4.19409), np.float32(18.60422), np.float32(30.90037)), (np.float32(-0.71065), np.float32(19.1427), np.float32(27.55704)), (np.float32(2.37833), np.float32(19.62042), np.float32(28.97518)), (np.float32(-0.1642), np.float32(19.42238), np.float32(29.22748)), (np.float32(-6.26467), np.float32(17.53969), np.float32(33.99681)), (np.float32(2.3409), np.float32(19.61215), np.float32(28.59921)), (np.float32(0.55356), np.float32(19.51973), np.float32(29.55323)), (np.float32(-0.27119), np.float32(19.12891), np.float32(28.79658)), (np.float32(-0.28487), np.float32(19.9083), np.float32(37.32868))]\n",
      "pc2_set [(np.float32(-1.54691), np.float32(19.02116), np.float32(27.27707)), (np.float32(-3.343), np.float32(19.24456), np.float32(32.07844)), (np.float32(-0.53884), np.float32(19.69632), np.float32(43.17264)), (np.float32(0.34636), np.float32(19.88206), np.float32(32.3911)), (np.float32(-1.07006), np.float32(19.31424), np.float32(42.57601)), (np.float32(-1.40352), np.float32(19.7374), np.float32(41.56367)), (np.float32(1.55256), np.float32(19.66838), np.float32(30.01482)), (np.float32(-0.85863), np.float32(19.63175), np.float32(31.45906)), (np.float32(-5.67402), np.float32(19.27238), np.float32(41.01636)), (np.float32(-2.84474), np.float32(19.44769), np.float32(39.65714))]\n",
      "union 92093\n",
      "(1, 0, 0) (1, 0, 1)\n"
     ]
    },
    {
     "name": "stderr",
     "output_type": "stream",
     "text": [
      "Exception ignored in: <bound method IPythonKernel._clean_thread_parent_frames of <ipykernel.ipkernel.IPythonKernel object at 0x7f0bddba4390>>\n",
      "Traceback (most recent call last):\n",
      "  File \"/home/aleksandra/miniconda3/envs/mast3r/lib/python3.11/site-packages/ipykernel/ipkernel.py\", line 775, in _clean_thread_parent_frames\n",
      "    def _clean_thread_parent_frames(\n",
      "\n",
      "KeyboardInterrupt: \n",
      "Exception ignored in: <bound method IPythonKernel._clean_thread_parent_frames of <ipykernel.ipkernel.IPythonKernel object at 0x7f0bddba4390>>\n",
      "Traceback (most recent call last):\n",
      "  File \"/home/aleksandra/miniconda3/envs/mast3r/lib/python3.11/site-packages/ipykernel/ipkernel.py\", line 775, in _clean_thread_parent_frames\n",
      "    def _clean_thread_parent_frames(\n",
      "\n",
      "KeyboardInterrupt: \n"
     ]
    },
    {
     "name": "stdout",
     "output_type": "stream",
     "text": [
      "(224, 224, 3) (45807, 3)\n",
      "45807\n",
      "43761\n",
      "intersection 0\n",
      "pc1_set [(np.float32(-1.54691), np.float32(19.02116), np.float32(27.27707)), (np.float32(-3.343), np.float32(19.24456), np.float32(32.07844)), (np.float32(-0.53884), np.float32(19.69632), np.float32(43.17264)), (np.float32(0.34636), np.float32(19.88206), np.float32(32.3911)), (np.float32(-1.07006), np.float32(19.31424), np.float32(42.57601)), (np.float32(-1.40352), np.float32(19.7374), np.float32(41.56367)), (np.float32(1.55256), np.float32(19.66838), np.float32(30.01482)), (np.float32(-0.85863), np.float32(19.63175), np.float32(31.45906)), (np.float32(-5.67402), np.float32(19.27238), np.float32(41.01636)), (np.float32(-2.84474), np.float32(19.44769), np.float32(39.65714))]\n",
      "pc2_set [(np.float32(-5.90428), np.float32(20.62486), np.float32(38.56856)), (np.float32(-9.63354), np.float32(20.08081), np.float32(38.83392)), (np.float32(-0.20941), np.float32(21.22225), np.float32(41.17075)), (np.float32(-10.21953), np.float32(19.67044), np.float32(40.6999)), (np.float32(1.02002), np.float32(20.3619), np.float32(28.30668)), (np.float32(1.44884), np.float32(20.88073), np.float32(33.83411)), (np.float32(-4.00686), np.float32(20.28067), np.float32(32.9886)), (np.float32(1.49414), np.float32(20.50482), np.float32(29.75248)), (np.float32(1.24404), np.float32(20.43495), np.float32(29.40369)), (np.float32(-1.32237), np.float32(19.5761), np.float32(27.50102))]\n",
      "union 89568\n",
      "(2, 0, 0) (2, 0, 1)\n",
      "(224, 224, 3) (43761, 3)\n",
      "43761\n",
      "46362\n",
      "intersection 0\n",
      "pc1_set [(np.float32(-5.90428), np.float32(20.62486), np.float32(38.56856)), (np.float32(-9.63354), np.float32(20.08081), np.float32(38.83392)), (np.float32(-0.20941), np.float32(21.22225), np.float32(41.17075)), (np.float32(-10.21953), np.float32(19.67044), np.float32(40.6999)), (np.float32(1.02002), np.float32(20.3619), np.float32(28.30668)), (np.float32(1.44884), np.float32(20.88073), np.float32(33.83411)), (np.float32(-4.00686), np.float32(20.28067), np.float32(32.9886)), (np.float32(1.49414), np.float32(20.50482), np.float32(29.75248)), (np.float32(1.24404), np.float32(20.43495), np.float32(29.40369)), (np.float32(-1.32237), np.float32(19.5761), np.float32(27.50102))]\n",
      "pc2_set [(np.float32(-4.07672), np.float32(19.40055), np.float32(32.94372)), (np.float32(-0.77718), np.float32(19.8144), np.float32(31.4554)), (np.float32(-0.23647), np.float32(19.85266), np.float32(32.26424)), (np.float32(-0.5399), np.float32(19.86697), np.float32(35.94561)), (np.float32(-3.62376), np.float32(19.36993), np.float32(31.15194)), (np.float32(-5.22183), np.float32(19.29432), np.float32(35.81683)), (np.float32(1.62434), np.float32(19.82176), np.float32(29.3191)), (np.float32(2.15895), np.float32(20.09774), np.float32(35.87392)), (np.float32(0.58065), np.float32(19.98064), np.float32(32.43497)), (np.float32(-0.53023), np.float32(19.18252), np.float32(28.35566))]\n",
      "union 90123\n",
      "(3, 0, 0) (3, 0, 1)\n",
      "(224, 224, 3) (46362, 3)\n",
      "46362\n",
      "47021\n",
      "intersection 0\n",
      "pc1_set [(np.float32(-4.07672), np.float32(19.40055), np.float32(32.94372)), (np.float32(-0.77718), np.float32(19.8144), np.float32(31.4554)), (np.float32(-0.23647), np.float32(19.85266), np.float32(32.26424)), (np.float32(-0.5399), np.float32(19.86697), np.float32(35.94561)), (np.float32(-3.62376), np.float32(19.36993), np.float32(31.15194)), (np.float32(-5.22183), np.float32(19.29432), np.float32(35.81683)), (np.float32(1.62434), np.float32(19.82176), np.float32(29.3191)), (np.float32(2.15895), np.float32(20.09774), np.float32(35.87392)), (np.float32(0.58065), np.float32(19.98064), np.float32(32.43497)), (np.float32(-0.53023), np.float32(19.18252), np.float32(28.35566))]\n",
      "pc2_set [(np.float32(0.59585), np.float32(19.39821), np.float32(38.39555)), (np.float32(0.45374), np.float32(19.61527), np.float32(33.8562)), (np.float32(1.99345), np.float32(19.61546), np.float32(28.48592)), (np.float32(3.16387), np.float32(19.66667), np.float32(28.91765)), (np.float32(-4.83494), np.float32(19.40355), np.float32(37.41217)), (np.float32(-4.11762), np.float32(19.33902), np.float32(35.85421)), (np.float32(-3.42434), np.float32(19.29807), np.float32(31.59787)), (np.float32(0.57993), np.float32(19.70916), np.float32(34.65214)), (np.float32(1.90996), np.float32(19.78489), np.float32(32.31025)), (np.float32(0.84937), np.float32(19.75548), np.float32(31.63408))]\n",
      "union 93383\n",
      "(4, 0, 0) (4, 0, 1)\n"
     ]
    },
    {
     "name": "stderr",
     "output_type": "stream",
     "text": [
      "Exception ignored in: <bound method IPythonKernel._clean_thread_parent_frames of <ipykernel.ipkernel.IPythonKernel object at 0x7f0bddba4390>>\n",
      "Traceback (most recent call last):\n",
      "  File \"/home/aleksandra/miniconda3/envs/mast3r/lib/python3.11/site-packages/ipykernel/ipkernel.py\", line 775, in _clean_thread_parent_frames\n",
      "    def _clean_thread_parent_frames(\n",
      "\n",
      "KeyboardInterrupt: \n",
      "Exception ignored in: <bound method IPythonKernel._clean_thread_parent_frames of <ipykernel.ipkernel.IPythonKernel object at 0x7f0bddba4390>>\n",
      "Traceback (most recent call last):\n",
      "  File \"/home/aleksandra/miniconda3/envs/mast3r/lib/python3.11/site-packages/ipykernel/ipkernel.py\", line 775, in _clean_thread_parent_frames\n",
      "    def _clean_thread_parent_frames(\n",
      "\n",
      "KeyboardInterrupt: \n"
     ]
    },
    {
     "ename": "KeyboardInterrupt",
     "evalue": "",
     "output_type": "error",
     "traceback": [
      "\u001B[0;31m---------------------------------------------------------------------------\u001B[0m",
      "\u001B[0;31mKeyboardInterrupt\u001B[0m                         Traceback (most recent call last)",
      "Cell \u001B[0;32mIn[18], line 183\u001B[0m\n\u001B[1;32m    164\u001B[0m     \u001B[38;5;66;03m# used_images = defaultdict(int)\u001B[39;00m\n\u001B[1;32m    165\u001B[0m     \u001B[38;5;66;03m# \u001B[39;00m\n\u001B[1;32m    166\u001B[0m     \u001B[38;5;66;03m# for score, img1, img2 in pair_scores:\u001B[39;00m\n\u001B[0;32m   (...)\u001B[0m\n\u001B[1;32m    178\u001B[0m     \u001B[38;5;66;03m#         img1, img2 = dataset[i], dataset[i + 1]\u001B[39;00m\n\u001B[1;32m    179\u001B[0m     \u001B[38;5;66;03m#         selected_pairs.append((img1, img2))\u001B[39;00m\n\u001B[1;32m    181\u001B[0m     \u001B[38;5;28;01mreturn\u001B[39;00m selected_pairs\n\u001B[0;32m--> 183\u001B[0m selected_pairs \u001B[38;5;241m=\u001B[39m \u001B[43mselect_best_pairs\u001B[49m\u001B[43m(\u001B[49m\u001B[43mdataset\u001B[49m\u001B[43m)\u001B[49m\n\u001B[1;32m    184\u001B[0m \u001B[38;5;28;01mfor\u001B[39;00m img1, img2 \u001B[38;5;129;01min\u001B[39;00m selected_pairs:\n\u001B[1;32m    185\u001B[0m     \u001B[38;5;28mprint\u001B[39m(\u001B[38;5;124mf\u001B[39m\u001B[38;5;124m\"\u001B[39m\u001B[38;5;124mSelected pair: Image \u001B[39m\u001B[38;5;132;01m{\u001B[39;00mimg1[\u001B[38;5;124m'\u001B[39m\u001B[38;5;124midx\u001B[39m\u001B[38;5;124m'\u001B[39m]\u001B[38;5;132;01m}\u001B[39;00m\u001B[38;5;124m and Image \u001B[39m\u001B[38;5;132;01m{\u001B[39;00mimg2[\u001B[38;5;124m'\u001B[39m\u001B[38;5;124midx\u001B[39m\u001B[38;5;124m'\u001B[39m]\u001B[38;5;132;01m}\u001B[39;00m\u001B[38;5;124m\"\u001B[39m)\n",
      "Cell \u001B[0;32mIn[18], line 131\u001B[0m, in \u001B[0;36mselect_best_pairs\u001B[0;34m(dataset, iou_threshold, score_threshold, pairs_per_image, pairs_number)\u001B[0m\n\u001B[1;32m    127\u001B[0m img2 \u001B[38;5;241m=\u001B[39m dataset[i][\u001B[38;5;241m1\u001B[39m]\n\u001B[1;32m    129\u001B[0m \u001B[38;5;28mprint\u001B[39m(img1[\u001B[38;5;124m'\u001B[39m\u001B[38;5;124midx\u001B[39m\u001B[38;5;124m'\u001B[39m], img2[\u001B[38;5;124m'\u001B[39m\u001B[38;5;124midx\u001B[39m\u001B[38;5;124m'\u001B[39m])\n\u001B[0;32m--> 131\u001B[0m iou \u001B[38;5;241m=\u001B[39m \u001B[43mcompute_iou_with_occlusion\u001B[49m\u001B[43m(\u001B[49m\u001B[43mimg1\u001B[49m\u001B[43m[\u001B[49m\u001B[38;5;124;43m'\u001B[39;49m\u001B[38;5;124;43mpts3d\u001B[39;49m\u001B[38;5;124;43m'\u001B[39;49m\u001B[43m]\u001B[49m\u001B[43m,\u001B[49m\u001B[43m \u001B[49m\u001B[43mimg2\u001B[49m\u001B[43m[\u001B[49m\u001B[38;5;124;43m'\u001B[39;49m\u001B[38;5;124;43mpts3d\u001B[39;49m\u001B[38;5;124;43m'\u001B[39;49m\u001B[43m]\u001B[49m\u001B[43m)\u001B[49m\n\u001B[1;32m    132\u001B[0m \u001B[38;5;66;03m# print('IOU', iou)\u001B[39;00m\n\u001B[1;32m    133\u001B[0m \u001B[38;5;28;01mif\u001B[39;00m iou \u001B[38;5;241m==\u001B[39m \u001B[38;5;241m0\u001B[39m:\n",
      "Cell \u001B[0;32mIn[18], line 80\u001B[0m, in \u001B[0;36mcompute_iou_with_occlusion\u001B[0;34m(pc1, pc2, radius)\u001B[0m\n\u001B[1;32m     77\u001B[0m visible_pc1 \u001B[38;5;241m=\u001B[39m simulate_occlusion(pc1, radius)\n\u001B[1;32m     78\u001B[0m visible_pc2 \u001B[38;5;241m=\u001B[39m simulate_occlusion(pc2, radius)\n\u001B[0;32m---> 80\u001B[0m \u001B[38;5;28;43mprint\u001B[39;49m\u001B[43m(\u001B[49m\u001B[43mpc1\u001B[49m\u001B[38;5;241;43m.\u001B[39;49m\u001B[43mshape\u001B[49m\u001B[43m,\u001B[49m\u001B[43m \u001B[49m\u001B[43mvisible_pc1\u001B[49m\u001B[38;5;241;43m.\u001B[39;49m\u001B[43mshape\u001B[49m\u001B[43m)\u001B[49m\n\u001B[1;32m     82\u001B[0m \u001B[38;5;66;03m# visible_pc1 = pc1\u001B[39;00m\n\u001B[1;32m     83\u001B[0m \u001B[38;5;66;03m# visible_pc2 = pc2\u001B[39;00m\n\u001B[1;32m     85\u001B[0m \u001B[38;5;28mprint\u001B[39m(\u001B[38;5;28mlen\u001B[39m(visible_pc1))\n",
      "\u001B[0;31mKeyboardInterrupt\u001B[0m: "
     ]
    }
   ],
   "execution_count": 18
  },
  {
   "metadata": {},
   "cell_type": "code",
   "source": "selected_pairs",
   "id": "706d4b3dafdffabd",
   "outputs": [],
   "execution_count": null
  },
  {
   "metadata": {
    "ExecuteTime": {
     "end_time": "2024-12-07T11:42:46.912696Z",
     "start_time": "2024-12-07T11:42:46.905746Z"
    }
   },
   "cell_type": "code",
   "source": [
    "for img1, img2 in selected_pairs:\n",
    "    # print(img1[0])\n",
    "    print(f\"Selected pair: Image {img1[0]['idx']} and Image {img2[0]['idx']}\")"
   ],
   "id": "b788a553374a4da6",
   "outputs": [],
   "execution_count": 60
  },
  {
   "metadata": {
    "ExecuteTime": {
     "end_time": "2024-12-08T22:17:56.617766Z",
     "start_time": "2024-12-08T22:17:56.614375Z"
    }
   },
   "cell_type": "code",
   "source": "from dust3r.datasets import UnderWaterDataset",
   "id": "4a1874cf8616730",
   "outputs": [],
   "execution_count": 4
  },
  {
   "metadata": {
    "ExecuteTime": {
     "end_time": "2024-12-08T22:36:33.028973Z",
     "start_time": "2024-12-08T22:36:32.979798Z"
    }
   },
   "cell_type": "code",
   "source": "dataset = UnderWaterDataset(split='train', ROOT='/home/aleksandra/dense_glomap_output', resolution=224)",
   "id": "e6d2f83042e2de50",
   "outputs": [],
   "execution_count": 15
  },
  {
   "metadata": {
    "ExecuteTime": {
     "end_time": "2024-12-08T20:03:27.272633Z",
     "start_time": "2024-12-08T20:03:27.189852Z"
    }
   },
   "cell_type": "code",
   "source": "type(dataset[0][0]['pts3d'])",
   "id": "cd5fb4de6645360a",
   "outputs": [
    {
     "data": {
      "text/plain": [
       "numpy.ndarray"
      ]
     },
     "execution_count": 9,
     "metadata": {},
     "output_type": "execute_result"
    }
   ],
   "execution_count": 9
  },
  {
   "metadata": {
    "ExecuteTime": {
     "end_time": "2024-12-07T11:30:51.948887Z",
     "start_time": "2024-12-07T11:30:47.202489Z"
    }
   },
   "cell_type": "code",
   "source": [
    "selected_pairs = select_best_pairs(dataset)\n",
    "for img1, img2 in selected_pairs:\n",
    "    print(f\"Selected pair: Image {img1['idx']} and Image {img2['idx']}\")"
   ],
   "id": "b57a8d047aae0712",
   "outputs": [
    {
     "name": "stdout",
     "output_type": "stream",
     "text": [
      "float32 float32\n"
     ]
    },
    {
     "ename": "TypeError",
     "evalue": "unhashable type: 'numpy.ndarray'",
     "output_type": "error",
     "traceback": [
      "\u001B[0;31m---------------------------------------------------------------------------\u001B[0m",
      "\u001B[0;31mTypeError\u001B[0m                                 Traceback (most recent call last)",
      "Cell \u001B[0;32mIn[42], line 1\u001B[0m\n\u001B[0;32m----> 1\u001B[0m selected_pairs \u001B[38;5;241m=\u001B[39m \u001B[43mselect_best_pairs\u001B[49m\u001B[43m(\u001B[49m\u001B[43mdataset\u001B[49m\u001B[43m)\u001B[49m\n\u001B[1;32m      2\u001B[0m \u001B[38;5;28;01mfor\u001B[39;00m img1, img2 \u001B[38;5;129;01min\u001B[39;00m selected_pairs:\n\u001B[1;32m      3\u001B[0m     \u001B[38;5;28mprint\u001B[39m(\u001B[38;5;124mf\u001B[39m\u001B[38;5;124m\"\u001B[39m\u001B[38;5;124mSelected pair: Image \u001B[39m\u001B[38;5;132;01m{\u001B[39;00mimg1[\u001B[38;5;124m'\u001B[39m\u001B[38;5;124midx\u001B[39m\u001B[38;5;124m'\u001B[39m]\u001B[38;5;132;01m}\u001B[39;00m\u001B[38;5;124m and Image \u001B[39m\u001B[38;5;132;01m{\u001B[39;00mimg2[\u001B[38;5;124m'\u001B[39m\u001B[38;5;124midx\u001B[39m\u001B[38;5;124m'\u001B[39m]\u001B[38;5;132;01m}\u001B[39;00m\u001B[38;5;124m\"\u001B[39m)\n",
      "Cell \u001B[0;32mIn[41], line 34\u001B[0m, in \u001B[0;36mselect_best_pairs\u001B[0;34m(dataset, iou_threshold, score_threshold, pairs_per_image, pairs_number)\u001B[0m\n\u001B[1;32m     32\u001B[0m img1 \u001B[38;5;241m=\u001B[39m img1[\u001B[38;5;241m0\u001B[39m]\n\u001B[1;32m     33\u001B[0m img2 \u001B[38;5;241m=\u001B[39m img2[\u001B[38;5;241m0\u001B[39m]\n\u001B[0;32m---> 34\u001B[0m iou \u001B[38;5;241m=\u001B[39m \u001B[43mcompute_iou\u001B[49m\u001B[43m(\u001B[49m\u001B[43mimg1\u001B[49m\u001B[43m[\u001B[49m\u001B[38;5;124;43m'\u001B[39;49m\u001B[38;5;124;43mpts3d\u001B[39;49m\u001B[38;5;124;43m'\u001B[39;49m\u001B[43m]\u001B[49m\u001B[43m,\u001B[49m\u001B[43m \u001B[49m\u001B[43mimg2\u001B[49m\u001B[43m[\u001B[49m\u001B[38;5;124;43m'\u001B[39;49m\u001B[38;5;124;43mpts3d\u001B[39;49m\u001B[38;5;124;43m'\u001B[39;49m\u001B[43m]\u001B[49m\u001B[43m)\u001B[49m\n\u001B[1;32m     35\u001B[0m \u001B[38;5;28;01mif\u001B[39;00m iou \u001B[38;5;241m==\u001B[39m \u001B[38;5;241m0\u001B[39m:\n\u001B[1;32m     36\u001B[0m     \u001B[38;5;28;01mcontinue\u001B[39;00m\n",
      "Cell \u001B[0;32mIn[41], line 9\u001B[0m, in \u001B[0;36mcompute_iou\u001B[0;34m(pts1, pts2)\u001B[0m\n\u001B[1;32m      5\u001B[0m \u001B[38;5;250m\u001B[39m\u001B[38;5;124;03m\"\"\"\u001B[39;00m\n\u001B[1;32m      6\u001B[0m \u001B[38;5;124;03mCompute the Intersection-over-Union (IoU) of two sets of 3D points.\u001B[39;00m\n\u001B[1;32m      7\u001B[0m \u001B[38;5;124;03m\"\"\"\u001B[39;00m\n\u001B[1;32m      8\u001B[0m \u001B[38;5;28mprint\u001B[39m(pts1\u001B[38;5;241m.\u001B[39mdtype, pts2\u001B[38;5;241m.\u001B[39mdtype)\n\u001B[0;32m----> 9\u001B[0m set1 \u001B[38;5;241m=\u001B[39m \u001B[38;5;28;43mset\u001B[39;49m\u001B[43m(\u001B[49m\u001B[38;5;28;43mtuple\u001B[39;49m\u001B[43m(\u001B[49m\u001B[43mpoint\u001B[49m\u001B[43m)\u001B[49m\u001B[43m \u001B[49m\u001B[38;5;28;43;01mfor\u001B[39;49;00m\u001B[43m \u001B[49m\u001B[43mpoint\u001B[49m\u001B[43m \u001B[49m\u001B[38;5;129;43;01min\u001B[39;49;00m\u001B[43m \u001B[49m\u001B[43mpts1\u001B[49m\u001B[43m)\u001B[49m\n\u001B[1;32m     10\u001B[0m set2 \u001B[38;5;241m=\u001B[39m \u001B[38;5;28mset\u001B[39m(\u001B[38;5;28mtuple\u001B[39m(point) \u001B[38;5;28;01mfor\u001B[39;00m point \u001B[38;5;129;01min\u001B[39;00m pts2)\n\u001B[1;32m     12\u001B[0m intersection \u001B[38;5;241m=\u001B[39m \u001B[38;5;28mlen\u001B[39m(set1 \u001B[38;5;241m&\u001B[39m set2)\n",
      "\u001B[0;31mTypeError\u001B[0m: unhashable type: 'numpy.ndarray'"
     ]
    }
   ],
   "execution_count": 42
  }
 ],
 "metadata": {
  "kernelspec": {
   "display_name": "Python 3",
   "language": "python",
   "name": "python3"
  },
  "language_info": {
   "codemirror_mode": {
    "name": "ipython",
    "version": 2
   },
   "file_extension": ".py",
   "mimetype": "text/x-python",
   "name": "python",
   "nbconvert_exporter": "python",
   "pygments_lexer": "ipython2",
   "version": "2.7.6"
  }
 },
 "nbformat": 4,
 "nbformat_minor": 5
}
