{
 "cells": [
  {
   "cell_type": "code",
   "id": "initial_id",
   "metadata": {
    "collapsed": true,
    "ExecuteTime": {
     "end_time": "2024-12-08T19:59:59.527776Z",
     "start_time": "2024-12-08T19:59:59.475814Z"
    }
   },
   "source": "import numpy as np\n",
   "outputs": [],
   "execution_count": 1
  },
  {
   "metadata": {
    "ExecuteTime": {
     "end_time": "2024-12-11T13:28:29.850224Z",
     "start_time": "2024-12-11T13:28:10.413997Z"
    }
   },
   "cell_type": "code",
   "source": [
    "import os.path as osp\n",
    "import cv2\n",
    "import numpy as np\n",
    "\n",
    "import sys\n",
    "sys.path.append('../../../') \n",
    "\n",
    "from dust3r.datasets.base.base_stereo_view_dataset import BaseStereoViewDataset\n",
    "from dust3r.utils.image import imread_cv2\n"
   ],
   "id": "ecc2195b5879f95f",
   "outputs": [],
   "execution_count": 1
  },
  {
   "metadata": {
    "ExecuteTime": {
     "end_time": "2024-12-11T13:29:16.282767Z",
     "start_time": "2024-12-11T13:29:03.246679Z"
    }
   },
   "cell_type": "code",
   "source": [
    "from itertools import combinations\n",
    "from collections import defaultdict\n",
    "from tqdm.auto import tqdm\n",
    "from scipy.spatial import cKDTree\n",
    "from sklearn.neighbors import NearestNeighbors\n",
    "\n",
    "def compute_iou(pointcloud1, pointcloud2, pixels_count, distance_threshold=0.4):\n",
    "    nbrs = NearestNeighbors(n_neighbors=1, algorithm = 'kd_tree').fit(pointcloud2)\n",
    "    distances, indices = nbrs.kneighbors(pointcloud1)\n",
    "    intersection1 = np.count_nonzero(distances.flatten() < distance_threshold)\n",
    "    \n",
    "    # nbrs = NearestNeighbors(n_neighbors=1, algorithm = 'kd_tree').fit(pointcloud1)\n",
    "    # distances, indices = nbrs.kneighbors(pointcloud2)\n",
    "    # intersection2 = np.count_nonzero(distances.flatten() < distance_threshold)\n",
    "    \n",
    "    # iou = min(intersection1 / pixels_count, intersection2 / pixels_count)\n",
    "    iou = intersection1 / len(pointcloud1)\n",
    "    print('intersection1', intersection1)\n",
    "    print('iouuuuuuuuu', iou)\n",
    "    if iou > 0.75:\n",
    "        print('KEEEEEEEEEEEEEEEEEEEEEEEEEEEEEEEEek')\n",
    "        # return 0.0\n",
    "\n",
    "    return intersection1\n",
    "\n",
    "def simulate_occlusion(point_cloud, radius):\n",
    "    \"\"\"\n",
    "    Simulates occlusion by attaching a ball of fixed radius to each 3D point.\n",
    "    Points occluded by another point within the radius are removed.\n",
    "    \"\"\"\n",
    "    if len(point_cloud.shape) == 3:\n",
    "        point_cloud = point_cloud.reshape(-1, 3)\n",
    "    return point_cloud\n",
    "    # tree = cKDTree(point_cloud)\n",
    "    # \n",
    "    # indices = tree.query_ball_tree(tree, radius)\n",
    "    # \n",
    "    # visible_mask = np.full(len(point_cloud), True, dtype=bool)\n",
    "    # for i, neighbors in enumerate(indices):\n",
    "    #     if visible_mask[i]:\n",
    "    #         for neighbor in neighbors[1:]:\n",
    "    #             visible_mask[neighbor] = False\n",
    "    # \n",
    "    # visible_points = point_cloud[visible_mask]\n",
    "    # return visible_points\n",
    "\n",
    "def compute_iou_with_occlusion(pc1, pc2, radius=0.0005):\n",
    "    \"\"\"\n",
    "    Computes the IoU between two 3D point clouds with artificial occlusion.\n",
    "    \"\"\"\n",
    "    visible_pc1 = simulate_occlusion(pc1, radius)\n",
    "    visible_pc2 = simulate_occlusion(pc2, radius)\n",
    "    \n",
    "    print('visible_pc1 and 2', len(visible_pc1), len(visible_pc2))\n",
    "    \n",
    "    print(pc1.shape[0], pc1.shape[1], pc1.shape[2])\n",
    "    \n",
    "    iou = compute_iou(visible_pc1, visible_pc2, pixels_count=pc1.shape[0] * pc1.shape[1])\n",
    "    \n",
    "    if iou == 0:\n",
    "        return 0\n",
    "    \n",
    "    print('iou',iou)\n",
    "    return iou\n",
    "\n",
    "def quality_pair_score(iou, alpha):\n",
    "    \"\"\"\n",
    "    Compute the quality pair score s = IoU × 4 cos(α)(1 - cos(α))\n",
    "    \"\"\"\n",
    "    angle_term = 4 * np.cos(alpha) * (1 - np.cos(alpha))\n",
    "    return iou * angle_term if angle_term > 0 else 0\n",
    "\n",
    "def select_best_pairs(dataset, iou_threshold=0.75, score_threshold=0.1, pairs_per_image=5, pairs_number=10):\n",
    "    \"\"\"\n",
    "    Select the best image pairs using a greedy algorithm\n",
    "    \"\"\"\n",
    "    # pairs = list(combinations(dataset, 2))\n",
    "    pair_scores = []\n",
    "\n",
    "    for i in range(100):\n",
    "        img1 = dataset[i][0]\n",
    "        img2 = dataset[i][1]\n",
    "        \n",
    "        print(img1['idx'], img2['idx'])\n",
    "        \n",
    "        iou = compute_iou_with_occlusion(img1['pts3d'], img2['pts3d'])\n",
    "        if iou == 0:\n",
    "            continue\n",
    "        \n",
    "        pose1, pose2 = img1['camera_pose'], img2['camera_pose']\n",
    "        rotation_diff = pose1[:3, :3].T @ pose2[:3, :3]  # Relative rotation matrix\n",
    "        alpha = np.arccos(np.clip((np.trace(rotation_diff) - 1) / 2, -1, 1))  # Angle in radians\n",
    "        print(alpha)\n",
    "        score = quality_pair_score(iou, alpha)\n",
    "        print('SCORE', img1['idx'], img2['idx'], score)\n",
    "        if score > score_threshold:\n",
    "            pair_scores.append((score, img1, img2))\n",
    "\n",
    "    pair_scores.sort(key=lambda x: x[0], reverse=True)\n",
    "\n",
    "    selected_pairs = []\n",
    "    used_images = set()\n",
    "\n",
    "    for score, img1, img2 in pair_scores:\n",
    "        if img1['idx'] in used_images or img2['idx'] in used_images:\n",
    "            continue\n",
    "\n",
    "        selected_pairs.append((img1, img2))\n",
    "        used_images.add(img1['idx'])\n",
    "        used_images.add(img2['idx'])\n",
    "\n",
    "        for img in dataset:\n",
    "            if img['idx'] not in used_images:\n",
    "                if compute_iou(img['pts3d'], img1['pts3d']) > iou_threshold or \\\n",
    "                   compute_iou(img['pts3d'], img2['pts3d']) > iou_threshold:\n",
    "                    used_images.add(img['idx'])\n",
    "                    \n",
    "    # used_images = defaultdict(int)\n",
    "    # \n",
    "    # for score, img1, img2 in pair_scores:\n",
    "    #     if used_images[img1['idx']] > pairs_per_image or used_images[img2['idx']] > pairs_per_image:\n",
    "    #         continue\n",
    "    # \n",
    "    #     selected_pairs.append((img1, img2))\n",
    "    #     used_images[img1['idx']] += 1\n",
    "    #     used_images[img2['idx']] += 1\n",
    "\n",
    "    # if len(selected_pairs) < pairs_number: \n",
    "    #     for i in range(len(dataset) - 1):\n",
    "    #         if len(selected_pairs) >= pairs_number:\n",
    "    #             break\n",
    "    #         img1, img2 = dataset[i], dataset[i + 1]\n",
    "    #         selected_pairs.append((img1, img2))\n",
    "\n",
    "    return selected_pairs\n",
    "\n",
    "selected_pairs = select_best_pairs(dataset)\n",
    "for img1, img2 in selected_pairs:\n",
    "    print(f\"Selected pair: Image {img1['idx']} and Image {img2['idx']}\")"
   ],
   "id": "1cf678ef326418c0",
   "outputs": [
    {
     "name": "stdout",
     "output_type": "stream",
     "text": [
      "(0, 0, 0) (0, 0, 1)\n",
      "visible_pc1 and 2 50176 50176\n",
      "224 224 3\n",
      "intersection1 43057\n",
      "iouuuuuuuuu 0.8581194196428571\n",
      "KEEEEEEEEEEEEEEEEEEEEEEEEEEEEEEEEek\n",
      "iou 43057\n",
      "0.034531865\n",
      "SCORE (0, 0, 0) (0, 0, 1) 102.615204\n",
      "(1, 0, 0) (1, 0, 1)\n",
      "visible_pc1 and 2 50176 50176\n",
      "224 224 3\n",
      "intersection1 43482\n",
      "iouuuuuuuuu 0.8665896045918368\n",
      "KEEEEEEEEEEEEEEEEEEEEEEEEEEEEEEEEek\n",
      "iou 43482\n",
      "0.02552711\n",
      "SCORE (1, 0, 0) (1, 0, 1) 56.647106\n",
      "(2, 0, 0) (2, 0, 1)\n",
      "visible_pc1 and 2 50176 50176\n",
      "224 224 3\n",
      "intersection1 18648\n",
      "iouuuuuuuuu 0.3716517857142857\n",
      "iou 18648\n",
      "0.027871456\n",
      "SCORE (2, 0, 0) (2, 0, 1) 28.959078\n",
      "(3, 0, 0) (3, 0, 1)\n",
      "visible_pc1 and 2 50176 50176\n",
      "224 224 3\n",
      "intersection1 9738\n",
      "iouuuuuuuuu 0.19407684948979592\n",
      "iou 9738\n",
      "0.04760879\n",
      "SCORE (3, 0, 0) (3, 0, 1) 44.08589\n",
      "(4, 0, 0) (4, 0, 1)\n",
      "visible_pc1 and 2 50176 50176\n",
      "224 224 3\n",
      "intersection1 46500\n",
      "iouuuuuuuuu 0.9267378826530612\n",
      "KEEEEEEEEEEEEEEEEEEEEEEEEEEEEEEEEek\n",
      "iou 46500\n",
      "0.021765945\n",
      "SCORE (4, 0, 0) (4, 0, 1) 44.047173\n",
      "(5, 0, 0) (5, 0, 1)\n",
      "visible_pc1 and 2 50176 50176\n",
      "224 224 3\n",
      "intersection1 14100\n",
      "iouuuuuuuuu 0.2810108418367347\n",
      "iou 14100\n",
      "0.024787823\n",
      "SCORE (5, 0, 0) (5, 0, 1) 17.320889\n",
      "(6, 0, 0) (6, 0, 1)\n",
      "visible_pc1 and 2 50176 50176\n",
      "224 224 3\n",
      "intersection1 41343\n",
      "iouuuuuuuuu 0.8239596619897959\n",
      "KEEEEEEEEEEEEEEEEEEEEEEEEEEEEEEEEek\n",
      "iou 41343\n",
      "0.01901193\n",
      "SCORE (6, 0, 0) (6, 0, 1) 29.88084\n",
      "(7, 0, 0) (7, 0, 1)\n",
      "visible_pc1 and 2 50176 50176\n",
      "224 224 3\n",
      "intersection1 42594\n",
      "iouuuuuuuuu 0.8488919005102041\n",
      "KEEEEEEEEEEEEEEEEEEEEEEEEEEEEEEEEek\n",
      "iou 42594\n",
      "0.014335981\n",
      "SCORE (7, 0, 0) (7, 0, 1) 17.505768\n",
      "(8, 0, 0) (8, 0, 1)\n",
      "visible_pc1 and 2 50176 50176\n",
      "224 224 3\n",
      "intersection1 36384\n",
      "iouuuuuuuuu 0.7251275510204082\n",
      "iou 36384\n",
      "0.014118117\n",
      "SCORE (8, 0, 0) (8, 0, 1) 14.5025215\n",
      "(9, 0, 0) (9, 0, 1)\n",
      "visible_pc1 and 2 50176 50176\n",
      "224 224 3\n",
      "intersection1 39990\n",
      "iouuuuuuuuu 0.7969945790816326\n",
      "KEEEEEEEEEEEEEEEEEEEEEEEEEEEEEEEEek\n",
      "iou 39990\n",
      "0.015548675\n",
      "SCORE (9, 0, 0) (9, 0, 1) 19.333344\n",
      "(10, 0, 0) (10, 0, 1)\n",
      "visible_pc1 and 2 50176 50176\n",
      "224 224 3\n",
      "intersection1 31461\n",
      "iouuuuuuuuu 0.6270129145408163\n",
      "iou 31461\n",
      "0.024874246\n",
      "SCORE (10, 0, 0) (10, 0, 1) 38.91756\n",
      "(11, 0, 0) (11, 0, 1)\n",
      "visible_pc1 and 2 50176 50176\n",
      "224 224 3\n",
      "intersection1 34014\n",
      "iouuuuuuuuu 0.6778938137755102\n",
      "iou 34014\n",
      "0.038866077\n",
      "SCORE (11, 0, 0) (11, 0, 1) 102.670654\n",
      "(12, 0, 0) (12, 0, 1)\n",
      "visible_pc1 and 2 50176 50176\n",
      "224 224 3\n",
      "intersection1 43384\n",
      "iouuuuuuuuu 0.8646364795918368\n",
      "KEEEEEEEEEEEEEEEEEEEEEEEEEEEEEEEEek\n",
      "iou 43384\n",
      "0.018612688\n",
      "SCORE (12, 0, 0) (12, 0, 1) 30.053154\n",
      "(13, 0, 0) (13, 0, 1)\n",
      "visible_pc1 and 2 50176 50176\n",
      "224 224 3\n",
      "intersection1 42463\n",
      "iouuuuuuuuu 0.8462810905612245\n",
      "KEEEEEEEEEEEEEEEEEEEEEEEEEEEEEEEEek\n",
      "iou 42463\n",
      "0.027544435\n",
      "SCORE (13, 0, 0) (13, 0, 1) 64.404495\n",
      "(14, 0, 0) (14, 0, 1)\n",
      "visible_pc1 and 2 50176 50176\n",
      "224 224 3\n",
      "intersection1 30578\n",
      "iouuuuuuuuu 0.6094148596938775\n",
      "iou 30578\n",
      "0.034417734\n",
      "SCORE (14, 0, 0) (14, 0, 1) 72.39415\n",
      "(15, 0, 0) (15, 0, 1)\n",
      "visible_pc1 and 2 50176 50176\n",
      "224 224 3\n",
      "intersection1 24366\n",
      "iouuuuuuuuu 0.4856106505102041\n",
      "iou 24366\n",
      "0.037887353\n",
      "SCORE (15, 0, 0) (15, 0, 1) 69.89386\n"
     ]
    },
    {
     "ename": "KeyboardInterrupt",
     "evalue": "",
     "output_type": "error",
     "traceback": [
      "\u001B[0;31m---------------------------------------------------------------------------\u001B[0m",
      "\u001B[0;31mKeyboardInterrupt\u001B[0m                         Traceback (most recent call last)",
      "Cell \u001B[0;32mIn[4], line 137\u001B[0m\n\u001B[1;32m    118\u001B[0m     \u001B[38;5;66;03m# used_images = defaultdict(int)\u001B[39;00m\n\u001B[1;32m    119\u001B[0m     \u001B[38;5;66;03m# \u001B[39;00m\n\u001B[1;32m    120\u001B[0m     \u001B[38;5;66;03m# for score, img1, img2 in pair_scores:\u001B[39;00m\n\u001B[0;32m   (...)\u001B[0m\n\u001B[1;32m    132\u001B[0m     \u001B[38;5;66;03m#         img1, img2 = dataset[i], dataset[i + 1]\u001B[39;00m\n\u001B[1;32m    133\u001B[0m     \u001B[38;5;66;03m#         selected_pairs.append((img1, img2))\u001B[39;00m\n\u001B[1;32m    135\u001B[0m     \u001B[38;5;28;01mreturn\u001B[39;00m selected_pairs\n\u001B[0;32m--> 137\u001B[0m selected_pairs \u001B[38;5;241m=\u001B[39m \u001B[43mselect_best_pairs\u001B[49m\u001B[43m(\u001B[49m\u001B[43mdataset\u001B[49m\u001B[43m)\u001B[49m\n\u001B[1;32m    138\u001B[0m \u001B[38;5;28;01mfor\u001B[39;00m img1, img2 \u001B[38;5;129;01min\u001B[39;00m selected_pairs:\n\u001B[1;32m    139\u001B[0m     \u001B[38;5;28mprint\u001B[39m(\u001B[38;5;124mf\u001B[39m\u001B[38;5;124m\"\u001B[39m\u001B[38;5;124mSelected pair: Image \u001B[39m\u001B[38;5;132;01m{\u001B[39;00mimg1[\u001B[38;5;124m'\u001B[39m\u001B[38;5;124midx\u001B[39m\u001B[38;5;124m'\u001B[39m]\u001B[38;5;132;01m}\u001B[39;00m\u001B[38;5;124m and Image \u001B[39m\u001B[38;5;132;01m{\u001B[39;00mimg2[\u001B[38;5;124m'\u001B[39m\u001B[38;5;124midx\u001B[39m\u001B[38;5;124m'\u001B[39m]\u001B[38;5;132;01m}\u001B[39;00m\u001B[38;5;124m\"\u001B[39m)\n",
      "Cell \u001B[0;32mIn[4], line 81\u001B[0m, in \u001B[0;36mselect_best_pairs\u001B[0;34m(dataset, iou_threshold, score_threshold, pairs_per_image, pairs_number)\u001B[0m\n\u001B[1;32m     78\u001B[0m pair_scores \u001B[38;5;241m=\u001B[39m []\n\u001B[1;32m     80\u001B[0m \u001B[38;5;28;01mfor\u001B[39;00m i \u001B[38;5;129;01min\u001B[39;00m \u001B[38;5;28mrange\u001B[39m(\u001B[38;5;241m100\u001B[39m):\n\u001B[0;32m---> 81\u001B[0m     img1 \u001B[38;5;241m=\u001B[39m \u001B[43mdataset\u001B[49m\u001B[43m[\u001B[49m\u001B[43mi\u001B[49m\u001B[43m]\u001B[49m[\u001B[38;5;241m0\u001B[39m]\n\u001B[1;32m     82\u001B[0m     img2 \u001B[38;5;241m=\u001B[39m dataset[i][\u001B[38;5;241m1\u001B[39m]\n\u001B[1;32m     84\u001B[0m     \u001B[38;5;28mprint\u001B[39m(img1[\u001B[38;5;124m'\u001B[39m\u001B[38;5;124midx\u001B[39m\u001B[38;5;124m'\u001B[39m], img2[\u001B[38;5;124m'\u001B[39m\u001B[38;5;124midx\u001B[39m\u001B[38;5;124m'\u001B[39m])\n",
      "File \u001B[0;32m~/coral/models/dust3r/dust3r/datasets/utils/../../../dust3r/datasets/base/base_stereo_view_dataset.py:80\u001B[0m, in \u001B[0;36mBaseStereoViewDataset.__getitem__\u001B[0;34m(self, idx)\u001B[0m\n\u001B[1;32m     78\u001B[0m \u001B[38;5;66;03m# over-loaded code\u001B[39;00m\n\u001B[1;32m     79\u001B[0m resolution \u001B[38;5;241m=\u001B[39m \u001B[38;5;28mself\u001B[39m\u001B[38;5;241m.\u001B[39m_resolutions[ar_idx]  \u001B[38;5;66;03m# DO NOT CHANGE THIS (compatible with BatchedRandomSampler)\u001B[39;00m\n\u001B[0;32m---> 80\u001B[0m views \u001B[38;5;241m=\u001B[39m \u001B[38;5;28;43mself\u001B[39;49m\u001B[38;5;241;43m.\u001B[39;49m\u001B[43m_get_views\u001B[49m\u001B[43m(\u001B[49m\u001B[43midx\u001B[49m\u001B[43m,\u001B[49m\u001B[43m \u001B[49m\u001B[43mresolution\u001B[49m\u001B[43m,\u001B[49m\u001B[43m \u001B[49m\u001B[38;5;28;43mself\u001B[39;49m\u001B[38;5;241;43m.\u001B[39;49m\u001B[43m_rng\u001B[49m\u001B[43m)\u001B[49m\n\u001B[1;32m     81\u001B[0m \u001B[38;5;28;01massert\u001B[39;00m \u001B[38;5;28mlen\u001B[39m(views) \u001B[38;5;241m==\u001B[39m \u001B[38;5;28mself\u001B[39m\u001B[38;5;241m.\u001B[39mnum_views\n\u001B[1;32m     83\u001B[0m \u001B[38;5;66;03m# check data-types\u001B[39;00m\n",
      "File \u001B[0;32m~/coral/models/dust3r/dust3r/datasets/utils/../../../dust3r/datasets/underwater.py:172\u001B[0m, in \u001B[0;36mUnderWaterDataset._get_views\u001B[0;34m(self, idx, resolution, rng)\u001B[0m\n\u001B[1;32m    169\u001B[0m rgb_image_path \u001B[38;5;241m=\u001B[39m osp\u001B[38;5;241m.\u001B[39mjoin(\u001B[38;5;28mself\u001B[39m\u001B[38;5;241m.\u001B[39mimages_path, image_name)\n\u001B[1;32m    170\u001B[0m depthmap_path \u001B[38;5;241m=\u001B[39m osp\u001B[38;5;241m.\u001B[39mjoin(\u001B[38;5;28mself\u001B[39m\u001B[38;5;241m.\u001B[39mdepthmap_path, \u001B[38;5;124mf\u001B[39m\u001B[38;5;124m\"\u001B[39m\u001B[38;5;132;01m{\u001B[39;00mimage_name\u001B[38;5;132;01m}\u001B[39;00m\u001B[38;5;124m.geometric.bin\u001B[39m\u001B[38;5;124m\"\u001B[39m)\n\u001B[0;32m--> 172\u001B[0m rgb_image \u001B[38;5;241m=\u001B[39m \u001B[43mimread_cv2\u001B[49m\u001B[43m(\u001B[49m\u001B[43mrgb_image_path\u001B[49m\u001B[43m)\u001B[49m\n\u001B[1;32m    173\u001B[0m \u001B[38;5;28;01mif\u001B[39;00m rgb_image \u001B[38;5;129;01mis\u001B[39;00m \u001B[38;5;28;01mNone\u001B[39;00m:\n\u001B[1;32m    174\u001B[0m     \u001B[38;5;28;01mraise\u001B[39;00m \u001B[38;5;167;01mFileNotFoundError\u001B[39;00m(\u001B[38;5;124mf\u001B[39m\u001B[38;5;124m\"\u001B[39m\u001B[38;5;124mRGB image \u001B[39m\u001B[38;5;132;01m{\u001B[39;00mimage_name\u001B[38;5;132;01m}\u001B[39;00m\u001B[38;5;124m not found at \u001B[39m\u001B[38;5;132;01m{\u001B[39;00mrgb_image_path\u001B[38;5;132;01m}\u001B[39;00m\u001B[38;5;124m\"\u001B[39m)\n",
      "File \u001B[0;32m~/coral/models/dust3r/dust3r/datasets/utils/../../../dust3r/utils/image.py:36\u001B[0m, in \u001B[0;36mimread_cv2\u001B[0;34m(path, options)\u001B[0m\n\u001B[1;32m     34\u001B[0m \u001B[38;5;28;01mif\u001B[39;00m path\u001B[38;5;241m.\u001B[39mendswith((\u001B[38;5;124m'\u001B[39m\u001B[38;5;124m.exr\u001B[39m\u001B[38;5;124m'\u001B[39m, \u001B[38;5;124m'\u001B[39m\u001B[38;5;124mEXR\u001B[39m\u001B[38;5;124m'\u001B[39m)):\n\u001B[1;32m     35\u001B[0m     options \u001B[38;5;241m=\u001B[39m cv2\u001B[38;5;241m.\u001B[39mIMREAD_ANYDEPTH\n\u001B[0;32m---> 36\u001B[0m img \u001B[38;5;241m=\u001B[39m \u001B[43mcv2\u001B[49m\u001B[38;5;241;43m.\u001B[39;49m\u001B[43mimread\u001B[49m\u001B[43m(\u001B[49m\u001B[43mpath\u001B[49m\u001B[43m,\u001B[49m\u001B[43m \u001B[49m\u001B[43moptions\u001B[49m\u001B[43m)\u001B[49m\n\u001B[1;32m     37\u001B[0m \u001B[38;5;28;01mif\u001B[39;00m img \u001B[38;5;129;01mis\u001B[39;00m \u001B[38;5;28;01mNone\u001B[39;00m:\n\u001B[1;32m     38\u001B[0m     \u001B[38;5;28;01mraise\u001B[39;00m \u001B[38;5;167;01mIOError\u001B[39;00m(\u001B[38;5;124mf\u001B[39m\u001B[38;5;124m'\u001B[39m\u001B[38;5;124mCould not load image=\u001B[39m\u001B[38;5;132;01m{\u001B[39;00mpath\u001B[38;5;132;01m}\u001B[39;00m\u001B[38;5;124m with \u001B[39m\u001B[38;5;132;01m{\u001B[39;00moptions\u001B[38;5;132;01m=}\u001B[39;00m\u001B[38;5;124m'\u001B[39m)\n",
      "\u001B[0;31mKeyboardInterrupt\u001B[0m: "
     ]
    }
   ],
   "execution_count": 4
  },
  {
   "metadata": {},
   "cell_type": "code",
   "source": "selected_pairs",
   "id": "706d4b3dafdffabd",
   "outputs": [],
   "execution_count": null
  },
  {
   "metadata": {
    "ExecuteTime": {
     "end_time": "2024-12-07T11:42:46.912696Z",
     "start_time": "2024-12-07T11:42:46.905746Z"
    }
   },
   "cell_type": "code",
   "source": [
    "for img1, img2 in selected_pairs:\n",
    "    # print(img1[0])\n",
    "    print(f\"Selected pair: Image {img1[0]['idx']} and Image {img2[0]['idx']}\")"
   ],
   "id": "b788a553374a4da6",
   "outputs": [],
   "execution_count": 60
  },
  {
   "metadata": {
    "ExecuteTime": {
     "end_time": "2024-12-11T13:28:29.854044Z",
     "start_time": "2024-12-11T13:28:29.851594Z"
    }
   },
   "cell_type": "code",
   "source": "from dust3r.datasets import UnderWaterDataset",
   "id": "4a1874cf8616730",
   "outputs": [],
   "execution_count": 2
  },
  {
   "metadata": {
    "ExecuteTime": {
     "end_time": "2024-12-11T13:28:32.101629Z",
     "start_time": "2024-12-11T13:28:29.854948Z"
    }
   },
   "cell_type": "code",
   "source": "dataset = UnderWaterDataset(split='test', ROOT='/home/aleksandra/dense_glomap_output', resolution=224)",
   "id": "e6d2f83042e2de50",
   "outputs": [],
   "execution_count": 3
  },
  {
   "metadata": {
    "ExecuteTime": {
     "end_time": "2024-12-08T20:03:27.272633Z",
     "start_time": "2024-12-08T20:03:27.189852Z"
    }
   },
   "cell_type": "code",
   "source": "type(dataset[0][0]['pts3d'])",
   "id": "cd5fb4de6645360a",
   "outputs": [
    {
     "data": {
      "text/plain": [
       "numpy.ndarray"
      ]
     },
     "execution_count": 9,
     "metadata": {},
     "output_type": "execute_result"
    }
   ],
   "execution_count": 9
  },
  {
   "metadata": {
    "ExecuteTime": {
     "end_time": "2024-12-07T11:30:51.948887Z",
     "start_time": "2024-12-07T11:30:47.202489Z"
    }
   },
   "cell_type": "code",
   "source": [
    "selected_pairs = select_best_pairs(dataset)\n",
    "for img1, img2 in selected_pairs:\n",
    "    print(f\"Selected pair: Image {img1['idx']} and Image {img2['idx']}\")"
   ],
   "id": "b57a8d047aae0712",
   "outputs": [
    {
     "name": "stdout",
     "output_type": "stream",
     "text": [
      "float32 float32\n"
     ]
    },
    {
     "ename": "TypeError",
     "evalue": "unhashable type: 'numpy.ndarray'",
     "output_type": "error",
     "traceback": [
      "\u001B[0;31m---------------------------------------------------------------------------\u001B[0m",
      "\u001B[0;31mTypeError\u001B[0m                                 Traceback (most recent call last)",
      "Cell \u001B[0;32mIn[42], line 1\u001B[0m\n\u001B[0;32m----> 1\u001B[0m selected_pairs \u001B[38;5;241m=\u001B[39m \u001B[43mselect_best_pairs\u001B[49m\u001B[43m(\u001B[49m\u001B[43mdataset\u001B[49m\u001B[43m)\u001B[49m\n\u001B[1;32m      2\u001B[0m \u001B[38;5;28;01mfor\u001B[39;00m img1, img2 \u001B[38;5;129;01min\u001B[39;00m selected_pairs:\n\u001B[1;32m      3\u001B[0m     \u001B[38;5;28mprint\u001B[39m(\u001B[38;5;124mf\u001B[39m\u001B[38;5;124m\"\u001B[39m\u001B[38;5;124mSelected pair: Image \u001B[39m\u001B[38;5;132;01m{\u001B[39;00mimg1[\u001B[38;5;124m'\u001B[39m\u001B[38;5;124midx\u001B[39m\u001B[38;5;124m'\u001B[39m]\u001B[38;5;132;01m}\u001B[39;00m\u001B[38;5;124m and Image \u001B[39m\u001B[38;5;132;01m{\u001B[39;00mimg2[\u001B[38;5;124m'\u001B[39m\u001B[38;5;124midx\u001B[39m\u001B[38;5;124m'\u001B[39m]\u001B[38;5;132;01m}\u001B[39;00m\u001B[38;5;124m\"\u001B[39m)\n",
      "Cell \u001B[0;32mIn[41], line 34\u001B[0m, in \u001B[0;36mselect_best_pairs\u001B[0;34m(dataset, iou_threshold, score_threshold, pairs_per_image, pairs_number)\u001B[0m\n\u001B[1;32m     32\u001B[0m img1 \u001B[38;5;241m=\u001B[39m img1[\u001B[38;5;241m0\u001B[39m]\n\u001B[1;32m     33\u001B[0m img2 \u001B[38;5;241m=\u001B[39m img2[\u001B[38;5;241m0\u001B[39m]\n\u001B[0;32m---> 34\u001B[0m iou \u001B[38;5;241m=\u001B[39m \u001B[43mcompute_iou\u001B[49m\u001B[43m(\u001B[49m\u001B[43mimg1\u001B[49m\u001B[43m[\u001B[49m\u001B[38;5;124;43m'\u001B[39;49m\u001B[38;5;124;43mpts3d\u001B[39;49m\u001B[38;5;124;43m'\u001B[39;49m\u001B[43m]\u001B[49m\u001B[43m,\u001B[49m\u001B[43m \u001B[49m\u001B[43mimg2\u001B[49m\u001B[43m[\u001B[49m\u001B[38;5;124;43m'\u001B[39;49m\u001B[38;5;124;43mpts3d\u001B[39;49m\u001B[38;5;124;43m'\u001B[39;49m\u001B[43m]\u001B[49m\u001B[43m)\u001B[49m\n\u001B[1;32m     35\u001B[0m \u001B[38;5;28;01mif\u001B[39;00m iou \u001B[38;5;241m==\u001B[39m \u001B[38;5;241m0\u001B[39m:\n\u001B[1;32m     36\u001B[0m     \u001B[38;5;28;01mcontinue\u001B[39;00m\n",
      "Cell \u001B[0;32mIn[41], line 9\u001B[0m, in \u001B[0;36mcompute_iou\u001B[0;34m(pts1, pts2)\u001B[0m\n\u001B[1;32m      5\u001B[0m \u001B[38;5;250m\u001B[39m\u001B[38;5;124;03m\"\"\"\u001B[39;00m\n\u001B[1;32m      6\u001B[0m \u001B[38;5;124;03mCompute the Intersection-over-Union (IoU) of two sets of 3D points.\u001B[39;00m\n\u001B[1;32m      7\u001B[0m \u001B[38;5;124;03m\"\"\"\u001B[39;00m\n\u001B[1;32m      8\u001B[0m \u001B[38;5;28mprint\u001B[39m(pts1\u001B[38;5;241m.\u001B[39mdtype, pts2\u001B[38;5;241m.\u001B[39mdtype)\n\u001B[0;32m----> 9\u001B[0m set1 \u001B[38;5;241m=\u001B[39m \u001B[38;5;28;43mset\u001B[39;49m\u001B[43m(\u001B[49m\u001B[38;5;28;43mtuple\u001B[39;49m\u001B[43m(\u001B[49m\u001B[43mpoint\u001B[49m\u001B[43m)\u001B[49m\u001B[43m \u001B[49m\u001B[38;5;28;43;01mfor\u001B[39;49;00m\u001B[43m \u001B[49m\u001B[43mpoint\u001B[49m\u001B[43m \u001B[49m\u001B[38;5;129;43;01min\u001B[39;49;00m\u001B[43m \u001B[49m\u001B[43mpts1\u001B[49m\u001B[43m)\u001B[49m\n\u001B[1;32m     10\u001B[0m set2 \u001B[38;5;241m=\u001B[39m \u001B[38;5;28mset\u001B[39m(\u001B[38;5;28mtuple\u001B[39m(point) \u001B[38;5;28;01mfor\u001B[39;00m point \u001B[38;5;129;01min\u001B[39;00m pts2)\n\u001B[1;32m     12\u001B[0m intersection \u001B[38;5;241m=\u001B[39m \u001B[38;5;28mlen\u001B[39m(set1 \u001B[38;5;241m&\u001B[39m set2)\n",
      "\u001B[0;31mTypeError\u001B[0m: unhashable type: 'numpy.ndarray'"
     ]
    }
   ],
   "execution_count": 42
  }
 ],
 "metadata": {
  "kernelspec": {
   "display_name": "Python 3",
   "language": "python",
   "name": "python3"
  },
  "language_info": {
   "codemirror_mode": {
    "name": "ipython",
    "version": 2
   },
   "file_extension": ".py",
   "mimetype": "text/x-python",
   "name": "python",
   "nbconvert_exporter": "python",
   "pygments_lexer": "ipython2",
   "version": "2.7.6"
  }
 },
 "nbformat": 4,
 "nbformat_minor": 5
}
