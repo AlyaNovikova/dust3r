{
 "cells": [
  {
   "cell_type": "code",
   "id": "initial_id",
   "metadata": {
    "collapsed": true,
    "ExecuteTime": {
     "end_time": "2024-12-07T10:55:22.560929Z",
     "start_time": "2024-12-07T10:55:21.933222Z"
    }
   },
   "source": "import numpy as np\n",
   "outputs": [],
   "execution_count": 1
  },
  {
   "metadata": {
    "ExecuteTime": {
     "end_time": "2024-12-07T11:02:41.554505Z",
     "start_time": "2024-12-07T11:02:41.549319Z"
    }
   },
   "cell_type": "code",
   "source": [
    "import os.path as osp\n",
    "import cv2\n",
    "import numpy as np\n",
    "\n",
    "import sys\n",
    "sys.path.append('../../../') \n",
    "\n",
    "from dust3r.datasets.base.base_stereo_view_dataset import BaseStereoViewDataset\n",
    "from dust3r.utils.image import imread_cv2\n"
   ],
   "id": "ecc2195b5879f95f",
   "outputs": [],
   "execution_count": 8
  },
  {
   "metadata": {
    "ExecuteTime": {
     "end_time": "2024-12-07T11:44:24.444314Z",
     "start_time": "2024-12-07T11:44:00.403649Z"
    }
   },
   "cell_type": "code",
   "source": [
    "from itertools import combinations\n",
    "from collections import defaultdict\n",
    "from tqdm.auto import tqdm\n",
    "\n",
    "def compute_iou(pts1, pts2):\n",
    "    \"\"\"\n",
    "    Compute the Intersection-over-Union (IoU) of two sets of 3D points.\n",
    "    \"\"\"\n",
    "    pts1 = np.asarray(pts1)\n",
    "    pts2 = np.asarray(pts2)\n",
    "    \n",
    "    # Find common points (intersection)\n",
    "    intersection = np.sum(np.all(pts1[:, None, :] == pts2[None, :, :], axis=2))\n",
    "\n",
    "    # Find unique points (union)\n",
    "    combined = np.vstack((pts1, pts2))\n",
    "    union = np.unique(combined, axis=0).shape[0]\n",
    "    \n",
    "    # Compute IoU\n",
    "    return intersection / union if union > 0 else 0\n",
    "\n",
    "def quality_pair_score(iou, alpha):\n",
    "    \"\"\"\n",
    "    Compute the quality pair score s = IoU × 4 cos(α)(1 - cos(α))\n",
    "    \"\"\"\n",
    "    angle_term = 4 * np.cos(alpha) * (1 - np.cos(alpha))\n",
    "    return iou * angle_term if angle_term > 0 else 0\n",
    "\n",
    "def select_best_pairs(dataset, iou_threshold=0.75, score_threshold=0.1, pairs_per_image=5, pairs_number=10):\n",
    "    \"\"\"\n",
    "    Select the best image pairs using a greedy algorithm\n",
    "    \"\"\"\n",
    "    pairs = list(combinations(dataset, 2))\n",
    "    pair_scores = []\n",
    "\n",
    "    for img1, img2 in pairs[:100]:\n",
    "        img1 = img1[0]\n",
    "        img2 = img2[0]\n",
    "        \n",
    "        print(img1['idx'], img2['idx'])\n",
    "        \n",
    "        iou = compute_iou(img1['pts3d'], img2['pts3d'])\n",
    "        print('IOU', iou)\n",
    "        if iou == 0:\n",
    "            continue\n",
    "        \n",
    "        pose1, pose2 = img1['camera_pose'], img2['camera_pose']\n",
    "        rotation_diff = pose1[:3, :3].T @ pose2[:3, :3]  # Relative rotation matrix\n",
    "        alpha = np.arccos(np.clip((np.trace(rotation_diff) - 1) / 2, -1, 1))  # Angle in radians\n",
    "        \n",
    "        score = quality_pair_score(iou, alpha)\n",
    "        print('SCORE', img1['idx'], img2['idx'], score)\n",
    "        if score > score_threshold:\n",
    "            pair_scores.append((score, img1, img2))\n",
    "\n",
    "    pair_scores.sort(key=lambda x: x[0], reverse=True)\n",
    "\n",
    "    selected_pairs = []\n",
    "    used_images = set()\n",
    "\n",
    "    for score, img1, img2 in pair_scores:\n",
    "        if img1['idx'] in used_images or img2['idx'] in used_images:\n",
    "            continue\n",
    "\n",
    "        selected_pairs.append((img1, img2))\n",
    "        used_images.add(img1['idx'])\n",
    "        used_images.add(img2['idx'])\n",
    "\n",
    "        for img in dataset:\n",
    "            if img['idx'] not in used_images:\n",
    "                if compute_iou(img['pts3d'], img1['pts3d']) > iou_threshold or \\\n",
    "                   compute_iou(img['pts3d'], img2['pts3d']) > iou_threshold:\n",
    "                    used_images.add(img['idx'])\n",
    "                    \n",
    "    # used_images = defaultdict(int)\n",
    "    # \n",
    "    # for score, img1, img2 in pair_scores:\n",
    "    #     if used_images[img1['idx']] > pairs_per_image or used_images[img2['idx']] > pairs_per_image:\n",
    "    #         continue\n",
    "    # \n",
    "    #     selected_pairs.append((img1, img2))\n",
    "    #     used_images[img1['idx']] += 1\n",
    "    #     used_images[img2['idx']] += 1\n",
    "\n",
    "    # if len(selected_pairs) < pairs_number: \n",
    "    #     for i in range(len(dataset) - 1):\n",
    "    #         if len(selected_pairs) >= pairs_number:\n",
    "    #             break\n",
    "    #         img1, img2 = dataset[i], dataset[i + 1]\n",
    "    #         selected_pairs.append((img1, img2))\n",
    "\n",
    "    return selected_pairs\n",
    "\n",
    "selected_pairs = select_best_pairs(dataset)\n",
    "for img1, img2 in selected_pairs:\n",
    "    print(f\"Selected pair: Image {img1['idx']} and Image {img2['idx']}\")"
   ],
   "id": "1cf678ef326418c0",
   "outputs": [
    {
     "name": "stdout",
     "output_type": "stream",
     "text": [
      "(0, 0, 0) (1, 0, 0)\n",
      "IOU 0.0\n",
      "(0, 0, 0) (2, 0, 0)\n",
      "IOU 0.0\n",
      "(0, 0, 0) (3, 0, 0)\n",
      "IOU 0.0\n",
      "(0, 0, 0) (4, 0, 0)\n",
      "IOU 0.0\n",
      "(0, 0, 0) (5, 0, 0)\n",
      "IOU 0.0\n",
      "(0, 0, 0) (6, 0, 0)\n",
      "IOU 0.0\n",
      "(0, 0, 0) (7, 0, 0)\n",
      "IOU 0.0\n",
      "(0, 0, 0) (8, 0, 0)\n",
      "IOU 0.0\n",
      "(0, 0, 0) (9, 0, 0)\n",
      "IOU 0.0\n",
      "(0, 0, 0) (10, 0, 0)\n",
      "IOU 0.0\n",
      "(0, 0, 0) (11, 0, 0)\n",
      "IOU 0.0\n",
      "(0, 0, 0) (12, 0, 0)\n",
      "IOU 0.0\n",
      "(0, 0, 0) (13, 0, 0)\n",
      "IOU 0.0\n",
      "(0, 0, 0) (14, 0, 0)\n",
      "IOU 0.0\n",
      "(0, 0, 0) (15, 0, 0)\n",
      "IOU 0.0\n",
      "(0, 0, 0) (16, 0, 0)\n",
      "IOU 0.0\n",
      "(0, 0, 0) (17, 0, 0)\n",
      "IOU 0.0\n",
      "(0, 0, 0) (18, 0, 0)\n",
      "IOU 0.0\n",
      "(0, 0, 0) (19, 0, 0)\n",
      "IOU 0.0\n",
      "(0, 0, 0) (20, 0, 0)\n",
      "IOU 0.0\n",
      "(0, 0, 0) (21, 0, 0)\n",
      "IOU 0.0\n",
      "(0, 0, 0) (22, 0, 0)\n",
      "IOU 0.0\n",
      "(0, 0, 0) (23, 0, 0)\n",
      "IOU 0.0\n",
      "(0, 0, 0) (24, 0, 0)\n",
      "IOU 0.0\n",
      "(0, 0, 0) (25, 0, 0)\n",
      "IOU 0.0\n",
      "(0, 0, 0) (26, 0, 0)\n",
      "IOU 0.0\n",
      "(0, 0, 0) (27, 0, 0)\n",
      "IOU 0.0\n",
      "(0, 0, 0) (28, 0, 0)\n",
      "IOU 0.0\n",
      "(0, 0, 0) (29, 0, 0)\n",
      "IOU 0.0\n",
      "(0, 0, 0) (30, 0, 0)\n",
      "IOU 0.0\n",
      "(0, 0, 0) (31, 0, 0)\n",
      "IOU 0.0\n",
      "(0, 0, 0) (32, 0, 0)\n",
      "IOU 0.0\n",
      "(0, 0, 0) (33, 0, 0)\n",
      "IOU 0.0\n",
      "(0, 0, 0) (34, 0, 0)\n",
      "IOU 0.0\n",
      "(0, 0, 0) (35, 0, 0)\n",
      "IOU 0.0\n",
      "(0, 0, 0) (36, 0, 0)\n",
      "IOU 0.0\n",
      "(0, 0, 0) (37, 0, 0)\n",
      "IOU 0.0\n",
      "(0, 0, 0) (38, 0, 0)\n",
      "IOU 0.0\n",
      "(0, 0, 0) (39, 0, 0)\n",
      "IOU 0.0\n",
      "(0, 0, 0) (40, 0, 0)\n",
      "IOU 0.0\n",
      "(0, 0, 0) (41, 0, 0)\n",
      "IOU 0.0\n",
      "(0, 0, 0) (42, 0, 0)\n",
      "IOU 0.0\n",
      "(0, 0, 0) (43, 0, 0)\n",
      "IOU 0.0\n",
      "(0, 0, 0) (44, 0, 0)\n",
      "IOU 0.0\n",
      "(0, 0, 0) (45, 0, 0)\n",
      "IOU 0.0\n",
      "(0, 0, 0) (46, 0, 0)\n",
      "IOU 0.0\n",
      "(0, 0, 0) (47, 0, 0)\n",
      "IOU 0.0\n",
      "(0, 0, 0) (48, 0, 0)\n",
      "IOU 0.0\n",
      "(0, 0, 0) (49, 0, 0)\n",
      "IOU 0.0\n",
      "(0, 0, 0) (50, 0, 0)\n",
      "IOU 0.0\n",
      "(0, 0, 0) (51, 0, 0)\n",
      "IOU 0.0\n",
      "(0, 0, 0) (52, 0, 0)\n",
      "IOU 0.0\n",
      "(0, 0, 0) (53, 0, 0)\n",
      "IOU 0.0\n",
      "(0, 0, 0) (54, 0, 0)\n",
      "IOU 0.0\n",
      "(0, 0, 0) (55, 0, 0)\n",
      "IOU 0.0\n",
      "(0, 0, 0) (56, 0, 0)\n",
      "IOU 0.0\n",
      "(0, 0, 0) (57, 0, 0)\n",
      "IOU 0.0\n",
      "(0, 0, 0) (58, 0, 0)\n",
      "IOU 0.0\n",
      "(0, 0, 0) (59, 0, 0)\n",
      "IOU 0.0\n",
      "(0, 0, 0) (60, 0, 0)\n",
      "IOU 0.0\n",
      "(0, 0, 0) (61, 0, 0)\n",
      "IOU 0.0\n",
      "(1, 0, 0) (2, 0, 0)\n",
      "IOU 0.0\n",
      "(1, 0, 0) (3, 0, 0)\n",
      "IOU 0.0\n",
      "(1, 0, 0) (4, 0, 0)\n",
      "IOU 0.0\n",
      "(1, 0, 0) (5, 0, 0)\n",
      "IOU 0.0\n",
      "(1, 0, 0) (6, 0, 0)\n",
      "IOU 0.0\n",
      "(1, 0, 0) (7, 0, 0)\n",
      "IOU 0.0\n",
      "(1, 0, 0) (8, 0, 0)\n",
      "IOU 0.0\n",
      "(1, 0, 0) (9, 0, 0)\n",
      "IOU 0.0\n",
      "(1, 0, 0) (10, 0, 0)\n",
      "IOU 0.0\n",
      "(1, 0, 0) (11, 0, 0)\n",
      "IOU 0.0\n",
      "(1, 0, 0) (12, 0, 0)\n",
      "IOU 0.0\n",
      "(1, 0, 0) (13, 0, 0)\n",
      "IOU 0.0\n",
      "(1, 0, 0) (14, 0, 0)\n",
      "IOU 0.0\n",
      "(1, 0, 0) (15, 0, 0)\n",
      "IOU 0.0\n",
      "(1, 0, 0) (16, 0, 0)\n",
      "IOU 0.0\n",
      "(1, 0, 0) (17, 0, 0)\n",
      "IOU 0.0\n",
      "(1, 0, 0) (18, 0, 0)\n",
      "IOU 0.0\n",
      "(1, 0, 0) (19, 0, 0)\n",
      "IOU 0.0\n",
      "(1, 0, 0) (20, 0, 0)\n",
      "IOU 0.0\n",
      "(1, 0, 0) (21, 0, 0)\n",
      "IOU 0.0\n",
      "(1, 0, 0) (22, 0, 0)\n",
      "IOU 0.0\n",
      "(1, 0, 0) (23, 0, 0)\n",
      "IOU 0.0\n",
      "(1, 0, 0) (24, 0, 0)\n",
      "IOU 0.0\n",
      "(1, 0, 0) (25, 0, 0)\n",
      "IOU 0.0\n",
      "(1, 0, 0) (26, 0, 0)\n",
      "IOU 0.0\n",
      "(1, 0, 0) (27, 0, 0)\n",
      "IOU 0.0\n",
      "(1, 0, 0) (28, 0, 0)\n",
      "IOU 0.0\n",
      "(1, 0, 0) (29, 0, 0)\n",
      "IOU 0.0\n",
      "(1, 0, 0) (30, 0, 0)\n",
      "IOU 0.0\n",
      "(1, 0, 0) (31, 0, 0)\n",
      "IOU 0.0\n",
      "(1, 0, 0) (32, 0, 0)\n",
      "IOU 0.0\n",
      "(1, 0, 0) (33, 0, 0)\n",
      "IOU 0.0\n",
      "(1, 0, 0) (34, 0, 0)\n",
      "IOU 0.0\n",
      "(1, 0, 0) (35, 0, 0)\n",
      "IOU 0.0\n",
      "(1, 0, 0) (36, 0, 0)\n",
      "IOU 0.0\n",
      "(1, 0, 0) (37, 0, 0)\n",
      "IOU 0.0\n",
      "(1, 0, 0) (38, 0, 0)\n",
      "IOU 0.0\n",
      "(1, 0, 0) (39, 0, 0)\n",
      "IOU 0.0\n",
      "(1, 0, 0) (40, 0, 0)\n",
      "IOU 0.0\n"
     ]
    }
   ],
   "execution_count": 63
  },
  {
   "metadata": {
    "ExecuteTime": {
     "end_time": "2024-12-07T11:42:52.588221Z",
     "start_time": "2024-12-07T11:42:52.583288Z"
    }
   },
   "cell_type": "code",
   "source": "selected_pairs",
   "id": "706d4b3dafdffabd",
   "outputs": [
    {
     "data": {
      "text/plain": [
       "[]"
      ]
     },
     "execution_count": 61,
     "metadata": {},
     "output_type": "execute_result"
    }
   ],
   "execution_count": 61
  },
  {
   "metadata": {
    "ExecuteTime": {
     "end_time": "2024-12-07T11:42:46.912696Z",
     "start_time": "2024-12-07T11:42:46.905746Z"
    }
   },
   "cell_type": "code",
   "source": [
    "for img1, img2 in selected_pairs:\n",
    "    # print(img1[0])\n",
    "    print(f\"Selected pair: Image {img1[0]['idx']} and Image {img2[0]['idx']}\")"
   ],
   "id": "b788a553374a4da6",
   "outputs": [],
   "execution_count": 60
  },
  {
   "metadata": {
    "ExecuteTime": {
     "end_time": "2024-12-07T11:04:02.961262Z",
     "start_time": "2024-12-07T11:04:02.956183Z"
    }
   },
   "cell_type": "code",
   "source": "from dust3r.datasets import UnderWaterDataset",
   "id": "4a1874cf8616730",
   "outputs": [],
   "execution_count": 10
  },
  {
   "metadata": {
    "ExecuteTime": {
     "end_time": "2024-12-07T11:39:15.387996Z",
     "start_time": "2024-12-07T11:39:15.336218Z"
    }
   },
   "cell_type": "code",
   "source": "dataset = UnderWaterDataset(split='test', ROOT='/home/aleksandra/dense_glomap_output', resolution=224)",
   "id": "e6d2f83042e2de50",
   "outputs": [],
   "execution_count": 51
  },
  {
   "metadata": {
    "ExecuteTime": {
     "end_time": "2024-12-07T11:08:33.614376Z",
     "start_time": "2024-12-07T11:08:33.541951Z"
    }
   },
   "cell_type": "code",
   "source": "dataset[0][0].keys()",
   "id": "cd5fb4de6645360a",
   "outputs": [
    {
     "data": {
      "text/plain": [
       "dict_keys(['img', 'depthmap', 'camera_pose', 'camera_intrinsics', 'dataset', 'label', 'instance', 'idx', 'true_shape', 'pts3d', 'valid_mask', 'rng'])"
      ]
     },
     "execution_count": 23,
     "metadata": {},
     "output_type": "execute_result"
    }
   ],
   "execution_count": 23
  },
  {
   "metadata": {
    "ExecuteTime": {
     "end_time": "2024-12-07T11:30:51.948887Z",
     "start_time": "2024-12-07T11:30:47.202489Z"
    }
   },
   "cell_type": "code",
   "source": [
    "selected_pairs = select_best_pairs(dataset)\n",
    "for img1, img2 in selected_pairs:\n",
    "    print(f\"Selected pair: Image {img1['idx']} and Image {img2['idx']}\")"
   ],
   "id": "b57a8d047aae0712",
   "outputs": [
    {
     "name": "stdout",
     "output_type": "stream",
     "text": [
      "float32 float32\n"
     ]
    },
    {
     "ename": "TypeError",
     "evalue": "unhashable type: 'numpy.ndarray'",
     "output_type": "error",
     "traceback": [
      "\u001B[0;31m---------------------------------------------------------------------------\u001B[0m",
      "\u001B[0;31mTypeError\u001B[0m                                 Traceback (most recent call last)",
      "Cell \u001B[0;32mIn[42], line 1\u001B[0m\n\u001B[0;32m----> 1\u001B[0m selected_pairs \u001B[38;5;241m=\u001B[39m \u001B[43mselect_best_pairs\u001B[49m\u001B[43m(\u001B[49m\u001B[43mdataset\u001B[49m\u001B[43m)\u001B[49m\n\u001B[1;32m      2\u001B[0m \u001B[38;5;28;01mfor\u001B[39;00m img1, img2 \u001B[38;5;129;01min\u001B[39;00m selected_pairs:\n\u001B[1;32m      3\u001B[0m     \u001B[38;5;28mprint\u001B[39m(\u001B[38;5;124mf\u001B[39m\u001B[38;5;124m\"\u001B[39m\u001B[38;5;124mSelected pair: Image \u001B[39m\u001B[38;5;132;01m{\u001B[39;00mimg1[\u001B[38;5;124m'\u001B[39m\u001B[38;5;124midx\u001B[39m\u001B[38;5;124m'\u001B[39m]\u001B[38;5;132;01m}\u001B[39;00m\u001B[38;5;124m and Image \u001B[39m\u001B[38;5;132;01m{\u001B[39;00mimg2[\u001B[38;5;124m'\u001B[39m\u001B[38;5;124midx\u001B[39m\u001B[38;5;124m'\u001B[39m]\u001B[38;5;132;01m}\u001B[39;00m\u001B[38;5;124m\"\u001B[39m)\n",
      "Cell \u001B[0;32mIn[41], line 34\u001B[0m, in \u001B[0;36mselect_best_pairs\u001B[0;34m(dataset, iou_threshold, score_threshold, pairs_per_image, pairs_number)\u001B[0m\n\u001B[1;32m     32\u001B[0m img1 \u001B[38;5;241m=\u001B[39m img1[\u001B[38;5;241m0\u001B[39m]\n\u001B[1;32m     33\u001B[0m img2 \u001B[38;5;241m=\u001B[39m img2[\u001B[38;5;241m0\u001B[39m]\n\u001B[0;32m---> 34\u001B[0m iou \u001B[38;5;241m=\u001B[39m \u001B[43mcompute_iou\u001B[49m\u001B[43m(\u001B[49m\u001B[43mimg1\u001B[49m\u001B[43m[\u001B[49m\u001B[38;5;124;43m'\u001B[39;49m\u001B[38;5;124;43mpts3d\u001B[39;49m\u001B[38;5;124;43m'\u001B[39;49m\u001B[43m]\u001B[49m\u001B[43m,\u001B[49m\u001B[43m \u001B[49m\u001B[43mimg2\u001B[49m\u001B[43m[\u001B[49m\u001B[38;5;124;43m'\u001B[39;49m\u001B[38;5;124;43mpts3d\u001B[39;49m\u001B[38;5;124;43m'\u001B[39;49m\u001B[43m]\u001B[49m\u001B[43m)\u001B[49m\n\u001B[1;32m     35\u001B[0m \u001B[38;5;28;01mif\u001B[39;00m iou \u001B[38;5;241m==\u001B[39m \u001B[38;5;241m0\u001B[39m:\n\u001B[1;32m     36\u001B[0m     \u001B[38;5;28;01mcontinue\u001B[39;00m\n",
      "Cell \u001B[0;32mIn[41], line 9\u001B[0m, in \u001B[0;36mcompute_iou\u001B[0;34m(pts1, pts2)\u001B[0m\n\u001B[1;32m      5\u001B[0m \u001B[38;5;250m\u001B[39m\u001B[38;5;124;03m\"\"\"\u001B[39;00m\n\u001B[1;32m      6\u001B[0m \u001B[38;5;124;03mCompute the Intersection-over-Union (IoU) of two sets of 3D points.\u001B[39;00m\n\u001B[1;32m      7\u001B[0m \u001B[38;5;124;03m\"\"\"\u001B[39;00m\n\u001B[1;32m      8\u001B[0m \u001B[38;5;28mprint\u001B[39m(pts1\u001B[38;5;241m.\u001B[39mdtype, pts2\u001B[38;5;241m.\u001B[39mdtype)\n\u001B[0;32m----> 9\u001B[0m set1 \u001B[38;5;241m=\u001B[39m \u001B[38;5;28;43mset\u001B[39;49m\u001B[43m(\u001B[49m\u001B[38;5;28;43mtuple\u001B[39;49m\u001B[43m(\u001B[49m\u001B[43mpoint\u001B[49m\u001B[43m)\u001B[49m\u001B[43m \u001B[49m\u001B[38;5;28;43;01mfor\u001B[39;49;00m\u001B[43m \u001B[49m\u001B[43mpoint\u001B[49m\u001B[43m \u001B[49m\u001B[38;5;129;43;01min\u001B[39;49;00m\u001B[43m \u001B[49m\u001B[43mpts1\u001B[49m\u001B[43m)\u001B[49m\n\u001B[1;32m     10\u001B[0m set2 \u001B[38;5;241m=\u001B[39m \u001B[38;5;28mset\u001B[39m(\u001B[38;5;28mtuple\u001B[39m(point) \u001B[38;5;28;01mfor\u001B[39;00m point \u001B[38;5;129;01min\u001B[39;00m pts2)\n\u001B[1;32m     12\u001B[0m intersection \u001B[38;5;241m=\u001B[39m \u001B[38;5;28mlen\u001B[39m(set1 \u001B[38;5;241m&\u001B[39m set2)\n",
      "\u001B[0;31mTypeError\u001B[0m: unhashable type: 'numpy.ndarray'"
     ]
    }
   ],
   "execution_count": 42
  }
 ],
 "metadata": {
  "kernelspec": {
   "display_name": "Python 3",
   "language": "python",
   "name": "python3"
  },
  "language_info": {
   "codemirror_mode": {
    "name": "ipython",
    "version": 2
   },
   "file_extension": ".py",
   "mimetype": "text/x-python",
   "name": "python",
   "nbconvert_exporter": "python",
   "pygments_lexer": "ipython2",
   "version": "2.7.6"
  }
 },
 "nbformat": 4,
 "nbformat_minor": 5
}
